{
  "nbformat": 4,
  "nbformat_minor": 0,
  "metadata": {
    "colab": {
      "name": "IV2SLS.ipynb",
      "version": "0.3.2",
      "provenance": []
    },
    "kernelspec": {
      "name": "python3",
      "display_name": "Python 3"
    }
  },
  "cells": [
    {
      "cell_type": "code",
      "metadata": {
        "id": "ayoYQDqgEQqq",
        "colab_type": "code",
        "colab": {
          "base_uri": "https://localhost:8080/",
          "height": 209
        },
        "outputId": "5c85ebb2-edc2-4ce4-8444-9bacdd9a8dcb"
      },
      "source": [
        "pip install linearmodels"
      ],
      "execution_count": 1,
      "outputs": [
        {
          "output_type": "stream",
          "text": [
            "Requirement already satisfied: linearmodels in /usr/local/lib/python3.6/dist-packages (4.13)\n",
            "Requirement already satisfied: scipy>=0.18 in /usr/local/lib/python3.6/dist-packages (from linearmodels) (1.3.0)\n",
            "Requirement already satisfied: statsmodels>=0.8 in /usr/local/lib/python3.6/dist-packages (from linearmodels) (0.10.1)\n",
            "Requirement already satisfied: patsy in /usr/local/lib/python3.6/dist-packages (from linearmodels) (0.5.1)\n",
            "Requirement already satisfied: numpy>=1.13 in /usr/local/lib/python3.6/dist-packages (from linearmodels) (1.16.4)\n",
            "Requirement already satisfied: cached-property>=1.5.1 in /usr/local/lib/python3.6/dist-packages (from linearmodels) (1.5.1)\n",
            "Requirement already satisfied: mypy-extensions>=0.4 in /usr/local/lib/python3.6/dist-packages (from linearmodels) (0.4.1)\n",
            "Requirement already satisfied: pandas>=0.20 in /usr/local/lib/python3.6/dist-packages (from linearmodels) (0.24.2)\n",
            "Requirement already satisfied: six in /usr/local/lib/python3.6/dist-packages (from patsy->linearmodels) (1.12.0)\n",
            "Requirement already satisfied: python-dateutil>=2.5.0 in /usr/local/lib/python3.6/dist-packages (from pandas>=0.20->linearmodels) (2.5.3)\n",
            "Requirement already satisfied: pytz>=2011k in /usr/local/lib/python3.6/dist-packages (from pandas>=0.20->linearmodels) (2018.9)\n"
          ],
          "name": "stdout"
        }
      ]
    },
    {
      "cell_type": "code",
      "metadata": {
        "id": "bAcLsYxsERn1",
        "colab_type": "code",
        "colab": {}
      },
      "source": [
        "import pandas as pd\n",
        "import numpy as np\n",
        "from linearmodels.iv import IV2SLS"
      ],
      "execution_count": 0,
      "outputs": []
    },
    {
      "cell_type": "code",
      "metadata": {
        "id": "mAYVLbGPERub",
        "colab_type": "code",
        "colab": {
          "base_uri": "https://localhost:8080/",
          "height": 224
        },
        "outputId": "cacbb0ef-8cc2-4d46-bbdd-15e9b6d97d48"
      },
      "source": [
        "file = \"https://github.com/VitorKamada/ECO6100/raw/master/Data/MROZ.DTA\" \n",
        "df = pd.read_stata(file)\n",
        "df.head()"
      ],
      "execution_count": 3,
      "outputs": [
        {
          "output_type": "execute_result",
          "data": {
            "text/html": [
              "<div>\n",
              "<style scoped>\n",
              "    .dataframe tbody tr th:only-of-type {\n",
              "        vertical-align: middle;\n",
              "    }\n",
              "\n",
              "    .dataframe tbody tr th {\n",
              "        vertical-align: top;\n",
              "    }\n",
              "\n",
              "    .dataframe thead th {\n",
              "        text-align: right;\n",
              "    }\n",
              "</style>\n",
              "<table border=\"1\" class=\"dataframe\">\n",
              "  <thead>\n",
              "    <tr style=\"text-align: right;\">\n",
              "      <th></th>\n",
              "      <th>inlf</th>\n",
              "      <th>hours</th>\n",
              "      <th>kidslt6</th>\n",
              "      <th>kidsge6</th>\n",
              "      <th>age</th>\n",
              "      <th>educ</th>\n",
              "      <th>wage</th>\n",
              "      <th>repwage</th>\n",
              "      <th>hushrs</th>\n",
              "      <th>husage</th>\n",
              "      <th>huseduc</th>\n",
              "      <th>huswage</th>\n",
              "      <th>faminc</th>\n",
              "      <th>mtr</th>\n",
              "      <th>motheduc</th>\n",
              "      <th>fatheduc</th>\n",
              "      <th>unem</th>\n",
              "      <th>city</th>\n",
              "      <th>exper</th>\n",
              "      <th>nwifeinc</th>\n",
              "      <th>lwage</th>\n",
              "      <th>expersq</th>\n",
              "    </tr>\n",
              "  </thead>\n",
              "  <tbody>\n",
              "    <tr>\n",
              "      <th>0</th>\n",
              "      <td>1</td>\n",
              "      <td>1610</td>\n",
              "      <td>1</td>\n",
              "      <td>0</td>\n",
              "      <td>32</td>\n",
              "      <td>12</td>\n",
              "      <td>3.3540</td>\n",
              "      <td>2.65</td>\n",
              "      <td>2708</td>\n",
              "      <td>34</td>\n",
              "      <td>12</td>\n",
              "      <td>4.0288</td>\n",
              "      <td>16310.0</td>\n",
              "      <td>0.7215</td>\n",
              "      <td>12</td>\n",
              "      <td>7</td>\n",
              "      <td>5.0</td>\n",
              "      <td>0</td>\n",
              "      <td>14</td>\n",
              "      <td>10.910060</td>\n",
              "      <td>1.210154</td>\n",
              "      <td>196</td>\n",
              "    </tr>\n",
              "    <tr>\n",
              "      <th>1</th>\n",
              "      <td>1</td>\n",
              "      <td>1656</td>\n",
              "      <td>0</td>\n",
              "      <td>2</td>\n",
              "      <td>30</td>\n",
              "      <td>12</td>\n",
              "      <td>1.3889</td>\n",
              "      <td>2.65</td>\n",
              "      <td>2310</td>\n",
              "      <td>30</td>\n",
              "      <td>9</td>\n",
              "      <td>8.4416</td>\n",
              "      <td>21800.0</td>\n",
              "      <td>0.6615</td>\n",
              "      <td>7</td>\n",
              "      <td>7</td>\n",
              "      <td>11.0</td>\n",
              "      <td>1</td>\n",
              "      <td>5</td>\n",
              "      <td>19.499981</td>\n",
              "      <td>0.328512</td>\n",
              "      <td>25</td>\n",
              "    </tr>\n",
              "    <tr>\n",
              "      <th>2</th>\n",
              "      <td>1</td>\n",
              "      <td>1980</td>\n",
              "      <td>1</td>\n",
              "      <td>3</td>\n",
              "      <td>35</td>\n",
              "      <td>12</td>\n",
              "      <td>4.5455</td>\n",
              "      <td>4.04</td>\n",
              "      <td>3072</td>\n",
              "      <td>40</td>\n",
              "      <td>12</td>\n",
              "      <td>3.5807</td>\n",
              "      <td>21040.0</td>\n",
              "      <td>0.6915</td>\n",
              "      <td>12</td>\n",
              "      <td>7</td>\n",
              "      <td>5.0</td>\n",
              "      <td>0</td>\n",
              "      <td>15</td>\n",
              "      <td>12.039910</td>\n",
              "      <td>1.514138</td>\n",
              "      <td>225</td>\n",
              "    </tr>\n",
              "    <tr>\n",
              "      <th>3</th>\n",
              "      <td>1</td>\n",
              "      <td>456</td>\n",
              "      <td>0</td>\n",
              "      <td>3</td>\n",
              "      <td>34</td>\n",
              "      <td>12</td>\n",
              "      <td>1.0965</td>\n",
              "      <td>3.25</td>\n",
              "      <td>1920</td>\n",
              "      <td>53</td>\n",
              "      <td>10</td>\n",
              "      <td>3.5417</td>\n",
              "      <td>7300.0</td>\n",
              "      <td>0.7815</td>\n",
              "      <td>7</td>\n",
              "      <td>7</td>\n",
              "      <td>5.0</td>\n",
              "      <td>0</td>\n",
              "      <td>6</td>\n",
              "      <td>6.799996</td>\n",
              "      <td>0.092123</td>\n",
              "      <td>36</td>\n",
              "    </tr>\n",
              "    <tr>\n",
              "      <th>4</th>\n",
              "      <td>1</td>\n",
              "      <td>1568</td>\n",
              "      <td>1</td>\n",
              "      <td>2</td>\n",
              "      <td>31</td>\n",
              "      <td>14</td>\n",
              "      <td>4.5918</td>\n",
              "      <td>3.60</td>\n",
              "      <td>2000</td>\n",
              "      <td>32</td>\n",
              "      <td>12</td>\n",
              "      <td>10.0000</td>\n",
              "      <td>27300.0</td>\n",
              "      <td>0.6215</td>\n",
              "      <td>12</td>\n",
              "      <td>14</td>\n",
              "      <td>9.5</td>\n",
              "      <td>1</td>\n",
              "      <td>7</td>\n",
              "      <td>20.100058</td>\n",
              "      <td>1.524272</td>\n",
              "      <td>49</td>\n",
              "    </tr>\n",
              "  </tbody>\n",
              "</table>\n",
              "</div>"
            ],
            "text/plain": [
              "   inlf  hours  kidslt6  kidsge6  ...  exper   nwifeinc     lwage  expersq\n",
              "0     1   1610        1        0  ...     14  10.910060  1.210154      196\n",
              "1     1   1656        0        2  ...      5  19.499981  0.328512       25\n",
              "2     1   1980        1        3  ...     15  12.039910  1.514138      225\n",
              "3     1    456        0        3  ...      6   6.799996  0.092123       36\n",
              "4     1   1568        1        2  ...      7  20.100058  1.524272       49\n",
              "\n",
              "[5 rows x 22 columns]"
            ]
          },
          "metadata": {
            "tags": []
          },
          "execution_count": 3
        }
      ]
    },
    {
      "cell_type": "code",
      "metadata": {
        "id": "--HywbYiERxj",
        "colab_type": "code",
        "colab": {
          "base_uri": "https://localhost:8080/",
          "height": 297
        },
        "outputId": "868df247-46d3-438f-bc2c-4e94fdd25933"
      },
      "source": [
        "df[['wage','educ','exper','motheduc','fatheduc']].describe()\n"
      ],
      "execution_count": 4,
      "outputs": [
        {
          "output_type": "execute_result",
          "data": {
            "text/html": [
              "<div>\n",
              "<style scoped>\n",
              "    .dataframe tbody tr th:only-of-type {\n",
              "        vertical-align: middle;\n",
              "    }\n",
              "\n",
              "    .dataframe tbody tr th {\n",
              "        vertical-align: top;\n",
              "    }\n",
              "\n",
              "    .dataframe thead th {\n",
              "        text-align: right;\n",
              "    }\n",
              "</style>\n",
              "<table border=\"1\" class=\"dataframe\">\n",
              "  <thead>\n",
              "    <tr style=\"text-align: right;\">\n",
              "      <th></th>\n",
              "      <th>wage</th>\n",
              "      <th>educ</th>\n",
              "      <th>exper</th>\n",
              "      <th>motheduc</th>\n",
              "      <th>fatheduc</th>\n",
              "    </tr>\n",
              "  </thead>\n",
              "  <tbody>\n",
              "    <tr>\n",
              "      <th>count</th>\n",
              "      <td>428.000000</td>\n",
              "      <td>753.000000</td>\n",
              "      <td>753.00000</td>\n",
              "      <td>753.000000</td>\n",
              "      <td>753.000000</td>\n",
              "    </tr>\n",
              "    <tr>\n",
              "      <th>mean</th>\n",
              "      <td>4.177680</td>\n",
              "      <td>12.286853</td>\n",
              "      <td>10.63081</td>\n",
              "      <td>9.250996</td>\n",
              "      <td>8.808765</td>\n",
              "    </tr>\n",
              "    <tr>\n",
              "      <th>std</th>\n",
              "      <td>3.310283</td>\n",
              "      <td>2.280246</td>\n",
              "      <td>8.06913</td>\n",
              "      <td>3.367468</td>\n",
              "      <td>3.572290</td>\n",
              "    </tr>\n",
              "    <tr>\n",
              "      <th>min</th>\n",
              "      <td>0.128200</td>\n",
              "      <td>5.000000</td>\n",
              "      <td>0.00000</td>\n",
              "      <td>0.000000</td>\n",
              "      <td>0.000000</td>\n",
              "    </tr>\n",
              "    <tr>\n",
              "      <th>25%</th>\n",
              "      <td>2.262600</td>\n",
              "      <td>12.000000</td>\n",
              "      <td>4.00000</td>\n",
              "      <td>7.000000</td>\n",
              "      <td>7.000000</td>\n",
              "    </tr>\n",
              "    <tr>\n",
              "      <th>50%</th>\n",
              "      <td>3.481900</td>\n",
              "      <td>12.000000</td>\n",
              "      <td>9.00000</td>\n",
              "      <td>10.000000</td>\n",
              "      <td>7.000000</td>\n",
              "    </tr>\n",
              "    <tr>\n",
              "      <th>75%</th>\n",
              "      <td>4.970750</td>\n",
              "      <td>13.000000</td>\n",
              "      <td>15.00000</td>\n",
              "      <td>12.000000</td>\n",
              "      <td>12.000000</td>\n",
              "    </tr>\n",
              "    <tr>\n",
              "      <th>max</th>\n",
              "      <td>25.000000</td>\n",
              "      <td>17.000000</td>\n",
              "      <td>45.00000</td>\n",
              "      <td>17.000000</td>\n",
              "      <td>17.000000</td>\n",
              "    </tr>\n",
              "  </tbody>\n",
              "</table>\n",
              "</div>"
            ],
            "text/plain": [
              "             wage        educ      exper    motheduc    fatheduc\n",
              "count  428.000000  753.000000  753.00000  753.000000  753.000000\n",
              "mean     4.177680   12.286853   10.63081    9.250996    8.808765\n",
              "std      3.310283    2.280246    8.06913    3.367468    3.572290\n",
              "min      0.128200    5.000000    0.00000    0.000000    0.000000\n",
              "25%      2.262600   12.000000    4.00000    7.000000    7.000000\n",
              "50%      3.481900   12.000000    9.00000   10.000000    7.000000\n",
              "75%      4.970750   13.000000   15.00000   12.000000   12.000000\n",
              "max     25.000000   17.000000   45.00000   17.000000   17.000000"
            ]
          },
          "metadata": {
            "tags": []
          },
          "execution_count": 4
        }
      ]
    },
    {
      "cell_type": "code",
      "metadata": {
        "id": "hQ7mSzofER07",
        "colab_type": "code",
        "colab": {
          "base_uri": "https://localhost:8080/",
          "height": 384
        },
        "outputId": "c879b395-bd07-4871-b776-1be14e0ac4ec"
      },
      "source": [
        "mod1 = 'np.log(wage) ~ 1 + exper + expersq + educ'\n",
        "reg1 = IV2SLS.from_formula(mod1, df).fit(cov_type='robust')\n",
        "print(reg1)"
      ],
      "execution_count": 5,
      "outputs": [
        {
          "output_type": "stream",
          "text": [
            "                            OLS Estimation Summary                            \n",
            "==============================================================================\n",
            "Dep. Variable:           np.log(wage)   R-squared:                      0.1568\n",
            "Estimator:                        OLS   Adj. R-squared:                 0.1509\n",
            "No. Observations:                 428   F-statistic:                    82.671\n",
            "Date:                Mon, Aug 05 2019   P-value (F-stat)                0.0000\n",
            "Time:                        18:40:19   Distribution:                  chi2(3)\n",
            "Cov. Estimator:                robust                                         \n",
            "                                                                              \n",
            "                             Parameter Estimates                              \n",
            "==============================================================================\n",
            "            Parameter  Std. Err.     T-stat    P-value    Lower CI    Upper CI\n",
            "------------------------------------------------------------------------------\n",
            "Intercept     -0.5220     0.2007    -2.6010     0.0093     -0.9154     -0.1287\n",
            "exper          0.0416     0.0152     2.7344     0.0063      0.0118      0.0714\n",
            "expersq       -0.0008     0.0004    -1.9402     0.0524     -0.0016   8.276e-06\n",
            "educ           0.1075     0.0132     8.1697     0.0000      0.0817      0.1333\n",
            "==============================================================================\n"
          ],
          "name": "stdout"
        },
        {
          "output_type": "stream",
          "text": [
            "/usr/local/lib/python3.6/dist-packages/linearmodels/utility.py:478: MissingValueWarning: \n",
            "Inputs contain missing values. Dropping rows with missing observations.\n",
            "  warnings.warn(missing_value_warning_msg, MissingValueWarning)\n"
          ],
          "name": "stderr"
        }
      ]
    },
    {
      "cell_type": "code",
      "metadata": {
        "id": "68cNnUhUER7D",
        "colab_type": "code",
        "colab": {
          "base_uri": "https://localhost:8080/",
          "height": 472
        },
        "outputId": "e3b6d9d8-30b8-4898-b029-2a527e8a2996"
      },
      "source": [
        "mod2 = 'np.log(wage) ~ 1 + exper + expersq + [educ ~ motheduc + fatheduc]'\n",
        "reg2 = IV2SLS.from_formula(mod2, df).fit(cov_type='robust')\n",
        "print(reg2)\n"
      ],
      "execution_count": 6,
      "outputs": [
        {
          "output_type": "stream",
          "text": [
            "                          IV-2SLS Estimation Summary                          \n",
            "==============================================================================\n",
            "Dep. Variable:           np.log(wage)   R-squared:                      0.1357\n",
            "Estimator:                    IV-2SLS   Adj. R-squared:                 0.1296\n",
            "No. Observations:                 428   F-statistic:                    18.611\n",
            "Date:                Mon, Aug 05 2019   P-value (F-stat)                0.0003\n",
            "Time:                        18:40:20   Distribution:                  chi2(3)\n",
            "Cov. Estimator:                robust                                         \n",
            "                                                                              \n",
            "                             Parameter Estimates                              \n",
            "==============================================================================\n",
            "            Parameter  Std. Err.     T-stat    P-value    Lower CI    Upper CI\n",
            "------------------------------------------------------------------------------\n",
            "Intercept      0.0481     0.4278     0.1124     0.9105     -0.7903      0.8865\n",
            "exper          0.0442     0.0155     2.8546     0.0043      0.0138      0.0745\n",
            "expersq       -0.0009     0.0004    -2.1001     0.0357     -0.0017  -5.997e-05\n",
            "educ           0.0614     0.0332     1.8503     0.0643     -0.0036      0.1264\n",
            "==============================================================================\n",
            "\n",
            "Endogenous: educ\n",
            "Instruments: motheduc, fatheduc\n",
            "Robust Covariance (Heteroskedastic)\n",
            "Debiased: False\n"
          ],
          "name": "stdout"
        },
        {
          "output_type": "stream",
          "text": [
            "/usr/local/lib/python3.6/dist-packages/linearmodels/utility.py:478: MissingValueWarning: \n",
            "Inputs contain missing values. Dropping rows with missing observations.\n",
            "  warnings.warn(missing_value_warning_msg, MissingValueWarning)\n"
          ],
          "name": "stderr"
        }
      ]
    },
    {
      "cell_type": "code",
      "metadata": {
        "id": "dEQu8likFMN9",
        "colab_type": "code",
        "colab": {
          "base_uri": "https://localhost:8080/",
          "height": 454
        },
        "outputId": "a079190f-f2a7-4352-af22-a1572396a63a"
      },
      "source": [
        "print(reg2.first_stage)"
      ],
      "execution_count": 7,
      "outputs": [
        {
          "output_type": "stream",
          "text": [
            "    First Stage Estimation Results    \n",
            "======================================\n",
            "                                  educ\n",
            "--------------------------------------\n",
            "R-squared                       0.2115\n",
            "Partial R-squared               0.2076\n",
            "Shea's R-squared                0.2076\n",
            "Partial F-statistic             100.22\n",
            "P-value (Partial F-stat)        0.0000\n",
            "Partial F-stat Distn           chi2(2)\n",
            "========================== ===========\n",
            "Intercept                       9.1026\n",
            "                              (21.588)\n",
            "exper                           0.0452\n",
            "                              (1.0854)\n",
            "expersq                        -0.0010\n",
            "                             (-0.7671)\n",
            "motheduc                        0.1576\n",
            "                              (4.4718)\n",
            "fatheduc                        0.1895\n",
            "                              (5.8771)\n",
            "--------------------------------------\n",
            "\n",
            "T-stats reported in parentheses\n",
            "T-stats use same covariance type as original model\n"
          ],
          "name": "stdout"
        }
      ]
    }
  ]
}