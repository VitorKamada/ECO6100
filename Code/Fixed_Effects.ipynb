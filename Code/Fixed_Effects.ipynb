{
  "nbformat": 4,
  "nbformat_minor": 0,
  "metadata": {
    "colab": {
      "name": "Fixed Effects.ipynb",
      "version": "0.3.2",
      "provenance": []
    },
    "kernelspec": {
      "name": "python3",
      "display_name": "Python 3"
    }
  },
  "cells": [
    {
      "cell_type": "code",
      "metadata": {
        "id": "0vEqWaxaMTTw",
        "colab_type": "code",
        "colab": {
          "base_uri": "https://localhost:8080/",
          "height": 209
        },
        "outputId": "4a967c97-8d2b-47fc-9161-8eeecf4b7894"
      },
      "source": [
        "pip install linearmodels"
      ],
      "execution_count": 1,
      "outputs": [
        {
          "output_type": "stream",
          "text": [
            "Requirement already satisfied: linearmodels in /usr/local/lib/python3.6/dist-packages (4.13)\n",
            "Requirement already satisfied: patsy in /usr/local/lib/python3.6/dist-packages (from linearmodels) (0.5.1)\n",
            "Requirement already satisfied: mypy-extensions>=0.4 in /usr/local/lib/python3.6/dist-packages (from linearmodels) (0.4.1)\n",
            "Requirement already satisfied: statsmodels>=0.8 in /usr/local/lib/python3.6/dist-packages (from linearmodels) (0.10.1)\n",
            "Requirement already satisfied: scipy>=0.18 in /usr/local/lib/python3.6/dist-packages (from linearmodels) (1.3.0)\n",
            "Requirement already satisfied: cached-property>=1.5.1 in /usr/local/lib/python3.6/dist-packages (from linearmodels) (1.5.1)\n",
            "Requirement already satisfied: numpy>=1.13 in /usr/local/lib/python3.6/dist-packages (from linearmodels) (1.16.4)\n",
            "Requirement already satisfied: pandas>=0.20 in /usr/local/lib/python3.6/dist-packages (from linearmodels) (0.24.2)\n",
            "Requirement already satisfied: six in /usr/local/lib/python3.6/dist-packages (from patsy->linearmodels) (1.12.0)\n",
            "Requirement already satisfied: python-dateutil>=2.5.0 in /usr/local/lib/python3.6/dist-packages (from pandas>=0.20->linearmodels) (2.5.3)\n",
            "Requirement already satisfied: pytz>=2011k in /usr/local/lib/python3.6/dist-packages (from pandas>=0.20->linearmodels) (2018.9)\n"
          ],
          "name": "stdout"
        }
      ]
    },
    {
      "cell_type": "code",
      "metadata": {
        "id": "x5XU3OfHMT6i",
        "colab_type": "code",
        "colab": {}
      },
      "source": [
        "import pandas as pd\n",
        "import numpy as np\n",
        "from linearmodels import PanelOLS"
      ],
      "execution_count": 0,
      "outputs": []
    },
    {
      "cell_type": "code",
      "metadata": {
        "id": "txwLUJewMT9A",
        "colab_type": "code",
        "colab": {
          "base_uri": "https://localhost:8080/",
          "height": 204
        },
        "outputId": "80168ed8-cfd2-4453-96b9-6af3256d317d"
      },
      "source": [
        "file = \"https://github.com/VitorKamada/ECO6100/raw/master/Data/deaths.dta\" \n",
        "df = pd.read_stata(file)\n",
        "df.head()"
      ],
      "execution_count": 3,
      "outputs": [
        {
          "output_type": "execute_result",
          "data": {
            "text/html": [
              "<div>\n",
              "<style scoped>\n",
              "    .dataframe tbody tr th:only-of-type {\n",
              "        vertical-align: middle;\n",
              "    }\n",
              "\n",
              "    .dataframe tbody tr th {\n",
              "        vertical-align: top;\n",
              "    }\n",
              "\n",
              "    .dataframe thead th {\n",
              "        text-align: right;\n",
              "    }\n",
              "</style>\n",
              "<table border=\"1\" class=\"dataframe\">\n",
              "  <thead>\n",
              "    <tr style=\"text-align: right;\">\n",
              "      <th></th>\n",
              "      <th>year</th>\n",
              "      <th>state</th>\n",
              "      <th>legal1820</th>\n",
              "      <th>dtype</th>\n",
              "      <th>agegr</th>\n",
              "      <th>count</th>\n",
              "      <th>pop</th>\n",
              "      <th>age</th>\n",
              "      <th>legal</th>\n",
              "      <th>beertaxa</th>\n",
              "      <th>beerpercap</th>\n",
              "      <th>winepercap</th>\n",
              "      <th>spiritpercap</th>\n",
              "      <th>totpercap</th>\n",
              "      <th>mrate</th>\n",
              "    </tr>\n",
              "  </thead>\n",
              "  <tbody>\n",
              "    <tr>\n",
              "      <th>0</th>\n",
              "      <td>1970</td>\n",
              "      <td>1</td>\n",
              "      <td>0.0</td>\n",
              "      <td>all</td>\n",
              "      <td>15-17 yrs</td>\n",
              "      <td>224</td>\n",
              "      <td>213574</td>\n",
              "      <td>15.978335</td>\n",
              "      <td>0.0</td>\n",
              "      <td>1.373711</td>\n",
              "      <td>0.60</td>\n",
              "      <td>0.09</td>\n",
              "      <td>0.70</td>\n",
              "      <td>1.38</td>\n",
              "      <td>104.881683</td>\n",
              "    </tr>\n",
              "    <tr>\n",
              "      <th>1</th>\n",
              "      <td>1971</td>\n",
              "      <td>1</td>\n",
              "      <td>0.0</td>\n",
              "      <td>all</td>\n",
              "      <td>15-17 yrs</td>\n",
              "      <td>241</td>\n",
              "      <td>220026</td>\n",
              "      <td>15.985843</td>\n",
              "      <td>0.0</td>\n",
              "      <td>1.316049</td>\n",
              "      <td>0.66</td>\n",
              "      <td>0.09</td>\n",
              "      <td>0.76</td>\n",
              "      <td>1.52</td>\n",
              "      <td>109.532509</td>\n",
              "    </tr>\n",
              "    <tr>\n",
              "      <th>2</th>\n",
              "      <td>1972</td>\n",
              "      <td>1</td>\n",
              "      <td>0.0</td>\n",
              "      <td>all</td>\n",
              "      <td>15-17 yrs</td>\n",
              "      <td>270</td>\n",
              "      <td>224877</td>\n",
              "      <td>15.985734</td>\n",
              "      <td>0.0</td>\n",
              "      <td>1.275120</td>\n",
              "      <td>0.74</td>\n",
              "      <td>0.09</td>\n",
              "      <td>0.78</td>\n",
              "      <td>1.61</td>\n",
              "      <td>120.065636</td>\n",
              "    </tr>\n",
              "    <tr>\n",
              "      <th>3</th>\n",
              "      <td>1973</td>\n",
              "      <td>1</td>\n",
              "      <td>0.0</td>\n",
              "      <td>all</td>\n",
              "      <td>15-17 yrs</td>\n",
              "      <td>258</td>\n",
              "      <td>227256</td>\n",
              "      <td>15.992462</td>\n",
              "      <td>0.0</td>\n",
              "      <td>1.200450</td>\n",
              "      <td>0.79</td>\n",
              "      <td>0.10</td>\n",
              "      <td>0.79</td>\n",
              "      <td>1.69</td>\n",
              "      <td>113.528358</td>\n",
              "    </tr>\n",
              "    <tr>\n",
              "      <th>4</th>\n",
              "      <td>1974</td>\n",
              "      <td>1</td>\n",
              "      <td>0.0</td>\n",
              "      <td>all</td>\n",
              "      <td>15-17 yrs</td>\n",
              "      <td>224</td>\n",
              "      <td>229025</td>\n",
              "      <td>16.000776</td>\n",
              "      <td>0.0</td>\n",
              "      <td>1.081136</td>\n",
              "      <td>0.83</td>\n",
              "      <td>0.16</td>\n",
              "      <td>0.81</td>\n",
              "      <td>1.80</td>\n",
              "      <td>97.805916</td>\n",
              "    </tr>\n",
              "  </tbody>\n",
              "</table>\n",
              "</div>"
            ],
            "text/plain": [
              "   year  state  legal1820  ... spiritpercap totpercap       mrate\n",
              "0  1970      1        0.0  ...         0.70      1.38  104.881683\n",
              "1  1971      1        0.0  ...         0.76      1.52  109.532509\n",
              "2  1972      1        0.0  ...         0.78      1.61  120.065636\n",
              "3  1973      1        0.0  ...         0.79      1.69  113.528358\n",
              "4  1974      1        0.0  ...         0.81      1.80   97.805916\n",
              "\n",
              "[5 rows x 15 columns]"
            ]
          },
          "metadata": {
            "tags": []
          },
          "execution_count": 3
        }
      ]
    },
    {
      "cell_type": "code",
      "metadata": {
        "id": "bI55MMfYMT_o",
        "colab_type": "code",
        "colab": {}
      },
      "source": [
        "df = df[df['year'] <= 1983]\n",
        "df = df[df['agegr'] == '18-20 yrs']\n",
        "df = df[df['dtype'] == 'all']  # All deaths"
      ],
      "execution_count": 0,
      "outputs": []
    },
    {
      "cell_type": "code",
      "metadata": {
        "id": "Xo5AQGIYMUCI",
        "colab_type": "code",
        "colab": {}
      },
      "source": [
        "df['Weight'] = (df['pop'])"
      ],
      "execution_count": 0,
      "outputs": []
    },
    {
      "cell_type": "code",
      "metadata": {
        "id": "tVug0cF4MUEw",
        "colab_type": "code",
        "colab": {}
      },
      "source": [
        "df['Trend'] = df['year']\n",
        "Dstate = pd.Categorical(df.state)\n",
        "Dyear = pd.Categorical(df.year)"
      ],
      "execution_count": 0,
      "outputs": []
    },
    {
      "cell_type": "code",
      "metadata": {
        "id": "uVlgi53YMUHY",
        "colab_type": "code",
        "colab": {
          "base_uri": "https://localhost:8080/",
          "height": 174
        },
        "outputId": "dbdd8117-88ef-4780-e537-936274e57c4e"
      },
      "source": [
        "df = df.set_index(['state', 'year'])\n",
        "print(df.head())"
      ],
      "execution_count": 7,
      "outputs": [
        {
          "output_type": "stream",
          "text": [
            "            legal1820 dtype      agegr  ...       mrate  Weight  Trend\n",
            "state year                              ...                           \n",
            "1     1970        0.0   all  18-20 yrs  ...  153.870468  189770   1970\n",
            "      1971        0.0   all  18-20 yrs  ...  161.535202  195623   1971\n",
            "      1972        0.0   all  18-20 yrs  ...  159.213486  200988   1972\n",
            "      1973        0.0   all  18-20 yrs  ...  140.885986  206550   1973\n",
            "      1974        0.0   all  18-20 yrs  ...  143.098312  213839   1974\n",
            "\n",
            "[5 rows x 15 columns]\n"
          ],
          "name": "stdout"
        }
      ]
    },
    {
      "cell_type": "code",
      "metadata": {
        "id": "KPC5k_LKNTOs",
        "colab_type": "code",
        "colab": {
          "base_uri": "https://localhost:8080/",
          "height": 559
        },
        "outputId": "aa22c2c6-f454-4b54-808a-98a1e3225a40"
      },
      "source": [
        "mod1 = PanelOLS(df.mrate, df.legal, entity_effects=True, time_effects=True)\n",
        "print(mod1.fit(cov_type='clustered', cluster_entity=True))"
      ],
      "execution_count": 8,
      "outputs": [
        {
          "output_type": "stream",
          "text": [
            "                          PanelOLS Estimation Summary                           \n",
            "================================================================================\n",
            "Dep. Variable:                  mrate   R-squared:                        0.0179\n",
            "Estimator:                   PanelOLS   R-squared (Between):              0.0795\n",
            "No. Observations:                 714   R-squared (Within):              -0.0270\n",
            "Date:                Mon, Aug 05 2019   R-squared (Overall):              0.0773\n",
            "Time:                        19:17:28   Log-likelihood                   -3016.1\n",
            "Cov. Estimator:             Clustered                                           \n",
            "                                        F-statistic:                      11.857\n",
            "Entities:                          51   P-value                           0.0006\n",
            "Avg Obs:                       14.000   Distribution:                   F(1,649)\n",
            "Min Obs:                       14.000                                           \n",
            "Max Obs:                       14.000   F-statistic (robust):             5.6381\n",
            "                                        P-value                           0.0179\n",
            "Time periods:                      14   Distribution:                   F(1,649)\n",
            "Avg Obs:                       51.000                                           \n",
            "Min Obs:                       51.000                                           \n",
            "Max Obs:                       51.000                                           \n",
            "                                                                                \n",
            "                             Parameter Estimates                              \n",
            "==============================================================================\n",
            "            Parameter  Std. Err.     T-stat    P-value    Lower CI    Upper CI\n",
            "------------------------------------------------------------------------------\n",
            "legal          10.804     4.5501     2.3745     0.0179      1.8694      19.739\n",
            "==============================================================================\n",
            "\n",
            "F-test for Poolability: 46.987\n",
            "P-value: 0.0000\n",
            "Distribution: F(63,649)\n",
            "\n",
            "Included effects: Entity, Time\n"
          ],
          "name": "stdout"
        }
      ]
    },
    {
      "cell_type": "code",
      "metadata": {
        "id": "IPVkxFBRNTXg",
        "colab_type": "code",
        "colab": {
          "base_uri": "https://localhost:8080/",
          "height": 1000
        },
        "outputId": "0622cf71-9596-4b74-ac13-8aca5263c7ee"
      },
      "source": [
        "mod2 = PanelOLS.from_formula('mrate ~ legal + Dyear + Dstate', df)\n",
        "print(mod2.fit(cov_type='clustered', cluster_entity=True))"
      ],
      "execution_count": 9,
      "outputs": [
        {
          "output_type": "stream",
          "text": [
            "                          PanelOLS Estimation Summary                           \n",
            "================================================================================\n",
            "Dep. Variable:                  mrate   R-squared:                        0.8212\n",
            "Estimator:                   PanelOLS   R-squared (Between):              1.0000\n",
            "No. Observations:                 714   R-squared (Within):               0.3620\n",
            "Date:                Mon, Aug 05 2019   R-squared (Overall):              0.8212\n",
            "Time:                        19:17:28   Log-likelihood                   -3016.1\n",
            "Cov. Estimator:             Clustered                                           \n",
            "                                        F-statistic:                      46.561\n",
            "Entities:                          51   P-value                           0.0000\n",
            "Avg Obs:                       14.000   Distribution:                  F(64,649)\n",
            "Min Obs:                       14.000                                           \n",
            "Max Obs:                       14.000   F-statistic (robust):         -3.461e+15\n",
            "                                        P-value                           1.0000\n",
            "Time periods:                      14   Distribution:                  F(64,649)\n",
            "Avg Obs:                       51.000                                           \n",
            "Min Obs:                       51.000                                           \n",
            "Max Obs:                       51.000                                           \n",
            "                                                                                \n",
            "                              Parameter Estimates                               \n",
            "================================================================================\n",
            "              Parameter  Std. Err.     T-stat    P-value    Lower CI    Upper CI\n",
            "--------------------------------------------------------------------------------\n",
            "Dyear[1970]      153.67     1.9632     78.274     0.0000      149.81      157.52\n",
            "Dyear[1971]      148.17     2.5116     58.994     0.0000      143.24      153.10\n",
            "Dyear[1972]      147.11     3.0559     48.139     0.0000      141.11      153.11\n",
            "Dyear[1973]      148.61     2.7916     53.236     0.0000      143.13      154.09\n",
            "Dyear[1974]      138.98     3.7111     37.450     0.0000      131.70      146.27\n",
            "Dyear[1975]      133.69     3.3152     40.325     0.0000      127.18      140.20\n",
            "Dyear[1976]      130.27     3.8300     34.014     0.0000      122.75      137.79\n",
            "Dyear[1977]      132.57     3.2608     40.657     0.0000      126.17      138.98\n",
            "Dyear[1978]      130.60     4.1378     31.563     0.0000      122.48      138.73\n",
            "Dyear[1979]      132.05     3.9365     33.545     0.0000      124.32      139.78\n",
            "Dyear[1980]      133.42     3.1218     42.738     0.0000      127.29      139.55\n",
            "Dyear[1981]      120.41     2.5122     47.928     0.0000      115.47      125.34\n",
            "Dyear[1982]      112.12     2.8071     39.940     0.0000      106.60      117.63\n",
            "Dyear[1983]      108.65     2.6708     40.681     0.0000      103.41      113.89\n",
            "Dstate[T.2]      107.89     1.1720     92.053     0.0000      105.59      110.19\n",
            "Dstate[T.4]      37.803     0.6656     56.793     0.0000      36.496      39.110\n",
            "Dstate[T.5]      6.0260     1.8428     3.2701     0.0011      2.4075      9.6445\n",
            "Dstate[T.6]     -0.7373     1.8428    -0.4001     0.6892     -4.3558      2.8812\n",
            "Dstate[T.8]     -12.384     2.7074    -4.5740     0.0000     -17.700     -7.0674\n",
            "Dstate[T.9]     -45.214     1.6560    -27.303     0.0000     -48.466     -41.962\n",
            "Dstate[T.10]    -32.045     0.5981    -53.574     0.0000     -33.220     -30.871\n",
            "Dstate[T.11]     4.2879     2.7074     1.5838     0.1137     -1.0284      9.6043\n",
            "Dstate[T.12]     5.0649     1.2318     4.1118     0.0000      2.6461      7.4837\n",
            "Dstate[T.13]    -0.0800     1.5480    -0.0517     0.9588     -3.1197      2.9598\n",
            "Dstate[T.15]    -35.501     2.0048    -17.707     0.0000     -39.437     -31.564\n",
            "Dstate[T.16]     14.686     0.8808     16.673     0.0000      12.956      16.415\n",
            "Dstate[T.17]    -15.040     0.4904    -30.666     0.0000     -16.003     -14.077\n",
            "Dstate[T.18]    -17.514     1.8428    -9.5041     0.0000     -21.132     -13.895\n",
            "Dstate[T.19]    -20.043     1.3163    -15.227     0.0000     -22.628     -17.459\n",
            "Dstate[T.20]    -18.537     2.7074    -6.8469     0.0000     -23.854     -13.221\n",
            "Dstate[T.21]    -4.3420     1.8428    -2.3563     0.0188     -7.9605     -0.7235\n",
            "Dstate[T.22]     9.5581     2.7074     3.5304     0.0004      4.2418      14.874\n",
            "Dstate[T.23]    -14.121     0.8240    -17.138     0.0000     -15.739     -12.503\n",
            "Dstate[T.24]    -23.118     1.1278    -20.498     0.0000     -25.332     -20.903\n",
            "Dstate[T.25]    -42.476     0.6712    -63.281     0.0000     -43.794     -41.158\n",
            "Dstate[T.26]    -16.578     0.4225    -39.235     0.0000     -17.407     -15.748\n",
            "Dstate[T.27]    -21.737     0.8751    -24.840     0.0000     -23.455     -20.019\n",
            "Dstate[T.28]    -0.3546     2.7074    -0.1310     0.8958     -5.6709      4.9617\n",
            "Dstate[T.29]    -1.3239     1.8428    -0.7184     0.4728     -4.9423      2.2946\n",
            "Dstate[T.30]     62.017     1.0409     59.578     0.0000      59.973      64.061\n",
            "Dstate[T.31]    -15.592     0.5659    -27.553     0.0000     -16.703     -14.481\n",
            "Dstate[T.32]     91.125     1.8428     49.451     0.0000      87.507      94.744\n",
            "Dstate[T.33]    -23.069     0.6088    -37.890     0.0000     -24.265     -21.874\n",
            "Dstate[T.34]    -39.869     1.2989    -30.694     0.0000     -42.420     -37.318\n",
            "Dstate[T.35]     66.894     1.8428     36.301     0.0000      63.275      70.512\n",
            "Dstate[T.36]    -28.386     2.5952    -10.938     0.0000     -33.482     -23.290\n",
            "Dstate[T.37]    -12.412     2.6821    -4.6277     0.0000     -17.679     -7.1454\n",
            "Dstate[T.38]     2.4049     1.8428     1.3050     0.1923     -1.2136      6.0234\n",
            "Dstate[T.39]    -33.723     2.5646    -13.149     0.0000     -38.759     -28.687\n",
            "Dstate[T.40]     0.8106     0.3700     2.1908     0.0288      0.0841      1.5371\n",
            "Dstate[T.41]     2.2397     1.8428     1.2154     0.2247     -1.3788      5.8582\n",
            "Dstate[T.42]    -29.905     1.8428    -16.229     0.0000     -33.524     -26.287\n",
            "Dstate[T.44]    -55.804     1.3773    -40.518     0.0000     -58.509     -53.100\n",
            "Dstate[T.45]    -17.435     2.7074    -6.4399     0.0000     -22.752     -12.119\n",
            "Dstate[T.46]    -7.5070     2.4194    -3.1028     0.0020     -12.258     -2.7562\n",
            "Dstate[T.47]     8.0032     1.7957     4.4568     0.0000      4.4771      11.529\n",
            "Dstate[T.48]     7.8210     1.3044     5.9960     0.0000      5.2597      10.382\n",
            "Dstate[T.49]    -18.749     1.8428    -10.174     0.0000     -22.367     -15.130\n",
            "Dstate[T.50]    -14.426     2.1117    -6.8314     0.0000     -18.572     -10.279\n",
            "Dstate[T.51]    -29.326     1.1961    -24.518     0.0000     -31.674     -26.977\n",
            "Dstate[T.53]    -7.7094     1.8428    -4.1837     0.0000     -11.328     -4.0910\n",
            "Dstate[T.54]    -3.7739     2.6938    -1.4010     0.1617     -9.0634      1.5157\n",
            "Dstate[T.55]    -21.535     2.7074    -7.9541     0.0000     -26.851     -16.219\n",
            "Dstate[T.56]     92.053     0.5169     178.09     0.0000      91.038      93.068\n",
            "legal            10.804     4.5501     2.3745     0.0179      1.8694      19.739\n",
            "================================================================================\n",
            "\n",
            "\n"
          ],
          "name": "stdout"
        }
      ]
    },
    {
      "cell_type": "code",
      "metadata": {
        "id": "xu2A152ENTaA",
        "colab_type": "code",
        "colab": {
          "base_uri": "https://localhost:8080/",
          "height": 1000
        },
        "outputId": "34d2511f-d858-4e40-df6f-96c14b75ad71"
      },
      "source": [
        "mod3 = PanelOLS.from_formula('mrate ~ legal + Trend*Dstate', df)\n",
        "print(mod3.fit(cov_type='clustered', cluster_entity=True))"
      ],
      "execution_count": 10,
      "outputs": [
        {
          "output_type": "stream",
          "text": [
            "                          PanelOLS Estimation Summary                           \n",
            "================================================================================\n",
            "Dep. Variable:                  mrate   R-squared:                        0.8357\n",
            "Estimator:                   PanelOLS   R-squared (Between):              1.0000\n",
            "No. Observations:                 714   R-squared (Within):               0.4139\n",
            "Date:                Mon, Aug 05 2019   R-squared (Overall):              0.8357\n",
            "Time:                        19:17:28   Log-likelihood                   -2985.8\n",
            "Cov. Estimator:             Clustered                                           \n",
            "                                        F-statistic:                      30.469\n",
            "Entities:                          51   P-value                           0.0000\n",
            "Avg Obs:                       14.000   Distribution:                 F(102,611)\n",
            "Min Obs:                       14.000                                           \n",
            "Max Obs:                       14.000   F-statistic (robust):          8.496e+20\n",
            "                                        P-value                           0.0000\n",
            "Time periods:                      14   Distribution:                 F(102,611)\n",
            "Avg Obs:                       51.000                                           \n",
            "Min Obs:                       51.000                                           \n",
            "Max Obs:                       51.000                                           \n",
            "                                                                                \n",
            "                                 Parameter Estimates                                  \n",
            "======================================================================================\n",
            "                    Parameter  Std. Err.     T-stat    P-value    Lower CI    Upper CI\n",
            "--------------------------------------------------------------------------------------\n",
            "Dstate[1]              7949.4     514.52     15.450     0.0000      6939.0      8959.9\n",
            "Dstate[2]              4314.6     77.916     55.374     0.0000      4161.6      4467.6\n",
            "Dstate[4]           1.261e+04     330.39     38.157     0.0000   1.196e+04   1.326e+04\n",
            "Dstate[5]              9947.5  7.476e-07  1.331e+10     0.0000      9947.5      9947.5\n",
            "Dstate[6]              5654.9  8.107e-07  6.975e+09     0.0000      5654.9      5654.9\n",
            "Dstate[8]              5173.1     3.7650     1374.0     0.0000      5165.7      5180.5\n",
            "Dstate[9]              273.88     401.62     0.6819     0.4955     -514.86      1062.6\n",
            "Dstate[10]             3150.3     164.30     19.174     0.0000      2827.6      3473.0\n",
            "Dstate[11]          1.173e+04     3.7650     3116.1     0.0000   1.172e+04   1.174e+04\n",
            "Dstate[12]             5330.7     411.70     12.948     0.0000      4522.2      6139.2\n",
            "Dstate[13]          1.213e+04     277.25     43.745     0.0000   1.158e+04   1.267e+04\n",
            "Dstate[15]             76.480     413.13     0.1851     0.8532     -734.85      887.81\n",
            "Dstate[16]             8566.4     179.89     47.619     0.0000      8213.1      8919.7\n",
            "Dstate[17]             5505.3     19.154     287.42     0.0000      5467.7      5543.0\n",
            "Dstate[18]             5181.8  4.369e-07  1.186e+10     0.0000      5181.8      5181.8\n",
            "Dstate[19]             7435.7     250.24     29.714     0.0000      6944.3      7927.2\n",
            "Dstate[20]             3678.3     3.7650     976.96     0.0000      3670.9      3685.7\n",
            "Dstate[21]             4071.0  4.958e-07  8.211e+09     0.0000      4071.0      4071.0\n",
            "Dstate[22]             2044.5     3.7650     543.02     0.0000      2037.1      2051.9\n",
            "Dstate[23]             3742.0     219.90     17.017     0.0000      3310.1      4173.8\n",
            "Dstate[24]             7127.6     616.24     11.566     0.0000      5917.4      8337.8\n",
            "Dstate[25]             5327.0     87.718     60.729     0.0000      5154.8      5499.3\n",
            "Dstate[26]             8239.4     346.81     23.758     0.0000      7558.3      8920.5\n",
            "Dstate[27]             7074.9     329.14     21.495     0.0000      6428.5      7721.3\n",
            "Dstate[28]             6259.5     3.7650     1662.5     0.0000      6252.1      6266.9\n",
            "Dstate[29]             5663.3  2.966e-07  1.909e+10     0.0000      5663.3      5663.3\n",
            "Dstate[30]             3942.5     355.29     11.097     0.0000      3244.8      4640.3\n",
            "Dstate[31]             6724.1     33.315     201.83     0.0000      6658.7      6789.5\n",
            "Dstate[32]          1.489e+04  5.235e-07  2.843e+10     0.0000   1.489e+04   1.489e+04\n",
            "Dstate[33]             3835.7     121.07     31.681     0.0000      3597.9      4073.5\n",
            "Dstate[34]             5885.9     303.37     19.402     0.0000      5290.2      6481.7\n",
            "Dstate[35]             7623.3  5.431e-07  1.404e+10     0.0000      7623.3      7623.3\n",
            "Dstate[36]             7030.5     76.272     92.177     0.0000      6880.7      7180.3\n",
            "Dstate[37]             7729.5     20.290     380.96     0.0000      7689.6      7769.3\n",
            "Dstate[38]             7266.9  1.362e-07  5.337e+10     0.0000      7266.9      7266.9\n",
            "Dstate[39]             3965.2     93.117     42.583     0.0000      3782.3      4148.0\n",
            "Dstate[40]            -268.88     739.34    -0.3637     0.7162     -1720.8      1183.1\n",
            "Dstate[41]             5675.1  2.053e-08  2.765e+11     0.0000      5675.1      5675.1\n",
            "Dstate[42]             3626.8  2.246e-07  1.615e+10     0.0000      3626.8      3626.8\n",
            "Dstate[44]             4556.8     70.174     64.936     0.0000      4419.0      4694.7\n",
            "Dstate[45]             7342.8     3.7650     1950.3     0.0000      7335.4      7350.2\n",
            "Dstate[46]          1.062e+04     162.29     65.438     0.0000    1.03e+04   1.094e+04\n",
            "Dstate[47]             6074.8     43.266     140.40     0.0000      5989.8      6159.7\n",
            "Dstate[48]             1293.4     464.40     2.7850     0.0055      381.35      2205.4\n",
            "Dstate[49]             5092.8  5.821e-07   8.75e+09     0.0000      5092.8      5092.8\n",
            "Dstate[50]             4632.9     359.18     12.898     0.0000      3927.5      5338.2\n",
            "Dstate[51]             7209.9     659.45     10.933     0.0000      5914.8      8505.0\n",
            "Dstate[53]             3588.0  4.358e-07  8.234e+09     0.0000      3588.0      3588.0\n",
            "Dstate[54]             4590.9     12.665     362.50     0.0000      4566.1      4615.8\n",
            "Dstate[55]             4440.3     3.7650     1179.4     0.0000      4432.9      4447.7\n",
            "Dstate[56]          1.283e+04     397.44     32.285     0.0000   1.205e+04   1.361e+04\n",
            "legal                  9.8573     3.7650     2.6181     0.0091      2.4634      17.251\n",
            "Trend                 -3.9542     0.2611    -15.145     0.0000     -4.4669     -3.4414\n",
            "Trend:Dstate[T.2]      1.8937     0.2204     8.5921     0.0000      1.4609      2.3266\n",
            "Trend:Dstate[T.4]     -2.3371     0.0929    -25.163     0.0000     -2.5195     -2.1547\n",
            "Trend:Dstate[T.5]     -1.0080     0.2611    -3.8609     0.0001     -1.5208     -0.4953\n",
            "Trend:Dstate[T.6]      1.1603     0.2611     4.4442     0.0000      0.6476      1.6731\n",
            "Trend:Dstate[T.8]      1.3987     0.2611     5.3572     0.0000      0.8860      1.9114\n",
            "Trend:Dstate[T.9]      3.8607     0.0564     68.424     0.0000      3.7499      3.9715\n",
            "Trend:Dstate[T.10]     2.4118     0.1774     13.592     0.0000      2.0634      2.7603\n",
            "Trend:Dstate[T.11]    -1.9114     0.2611    -7.3209     0.0000     -2.4241     -1.3987\n",
            "Trend:Dstate[T.12]     1.3276     0.0515     25.778     0.0000      1.2265      1.4288\n",
            "Trend:Dstate[T.13]    -2.1142     0.1194    -17.708     0.0000     -2.3487     -1.8797\n",
            "Trend:Dstate[T.15]     3.9655     0.0505     78.594     0.0000      3.8664      4.0646\n",
            "Trend:Dstate[T.16]    -0.3046     0.1689    -1.8033     0.0718     -0.6364      0.0271\n",
            "Trend:Dstate[T.17]     1.2289     0.2702     4.5479     0.0000      0.6982      1.7596\n",
            "Trend:Dstate[T.18]     1.3912     0.2611     5.3285     0.0000      0.8785      1.9039\n",
            "Trend:Dstate[T.19]     0.2499     0.1332     1.8767     0.0610     -0.0116      0.5114\n",
            "Trend:Dstate[T.20]     2.1519     0.2611     8.2420     0.0000      1.6391      2.6646\n",
            "Trend:Dstate[T.21]     1.9599     0.2611     7.5066     0.0000      1.4471      2.4726\n",
            "Trend:Dstate[T.22]     2.9927     0.2611     11.462     0.0000      2.4800      3.5054\n",
            "Trend:Dstate[T.23]     2.1217     0.3712     5.7153     0.0000      1.3926      2.8507\n",
            "Trend:Dstate[T.24]     0.4042     0.0519     7.7826     0.0000      0.3022      0.5062\n",
            "Trend:Dstate[T.25]     1.3054     0.2157     6.0530     0.0000      0.8819      1.7289\n",
            "Trend:Dstate[T.26]    -0.1551     0.4356    -0.3560     0.7220     -1.0105      0.7004\n",
            "Trend:Dstate[T.27]     0.4316     0.0934     4.6194     0.0000      0.2481      0.6150\n",
            "Trend:Dstate[T.28]     0.8551     0.2611     3.2753     0.0011      0.3424      1.3679\n",
            "Trend:Dstate[T.29]     1.1558     0.2611     4.4268     0.0000      0.6430      1.6685\n",
            "Trend:Dstate[T.30]     2.0587     0.0801     25.695     0.0000      1.9014      2.2161\n",
            "Trend:Dstate[T.31]     0.6121     0.2769     2.2104     0.0275      0.0683      1.1560\n",
            "Trend:Dstate[T.32]    -3.4635     0.2611    -13.266     0.0000     -3.9762     -2.9507\n",
            "Trend:Dstate[T.33]     2.0697     0.1988     10.411     0.0000      1.6793      2.4601\n",
            "Trend:Dstate[T.34]     1.0240     0.1063     9.6345     0.0000      0.8153      1.2327\n",
            "Trend:Dstate[T.35]     0.1987     0.2611     0.7609     0.4470     -0.3141      0.7114\n",
            "Trend:Dstate[T.36]     0.4508     0.2978     1.5138     0.1306     -0.1340      1.0357\n",
            "Trend:Dstate[T.37]     0.1053     0.2695     0.3907     0.6961     -0.4239      0.6345\n",
            "Trend:Dstate[T.38]     0.3463     0.2611     1.3265     0.1852     -0.1664      0.8591\n",
            "Trend:Dstate[T.39]     1.9990     0.3064     6.5252     0.0000      1.3974      2.6007\n",
            "Trend:Dstate[T.40]     4.1585     0.1139     36.508     0.0000      3.9348      4.3822\n",
            "Trend:Dstate[T.41]     1.1516     0.2611     4.4108     0.0000      0.6389      1.6644\n",
            "Trend:Dstate[T.42]     2.1717     0.2611     8.3178     0.0000      1.6589      2.6844\n",
            "Trend:Dstate[T.44]     1.6884     0.2242     7.5294     0.0000      1.2480      2.1287\n",
            "Trend:Dstate[T.45]     0.2984     0.2611     1.1429     0.2535     -0.2143      0.8111\n",
            "Trend:Dstate[T.46]    -1.3546     0.1772    -7.6448     0.0000     -1.7026     -1.0066\n",
            "Trend:Dstate[T.47]     0.9527     0.2377     4.0085     0.0001      0.4860      1.4195\n",
            "Trend:Dstate[T.48]     3.3717     0.0248     135.91     0.0000      3.3230      3.4204\n",
            "Trend:Dstate[T.49]     1.4356     0.2611     5.4986     0.0000      0.9229      1.9484\n",
            "Trend:Dstate[T.50]     1.6709     0.0777     21.503     0.0000      1.5183      1.8235\n",
            "Trend:Dstate[T.51]     0.3595     0.0738     4.8685     0.0000      0.2145      0.5044\n",
            "Trend:Dstate[T.53]     2.2026     0.2611     8.4361     0.0000      1.6898      2.7153\n",
            "Trend:Dstate[T.54]     1.6976     0.2656     6.3916     0.0000      1.1760      2.2192\n",
            "Trend:Dstate[T.55]     1.7648     0.2611     6.7594     0.0000      1.2521      2.2775\n",
            "Trend:Dstate[T.56]    -2.4233     0.0590    -41.060     0.0000     -2.5392     -2.3074\n",
            "======================================================================================\n",
            "\n",
            "\n"
          ],
          "name": "stdout"
        }
      ]
    },
    {
      "cell_type": "code",
      "metadata": {
        "id": "iNwEvYVwNTcp",
        "colab_type": "code",
        "colab": {
          "base_uri": "https://localhost:8080/",
          "height": 559
        },
        "outputId": "7a08ae7d-1a04-4b11-ea51-e87566fb9df7"
      },
      "source": [
        "mod4 = PanelOLS(df.mrate, df.legal, weights=df.Weight, entity_effects=True, time_effects=True)\n",
        "print(mod4.fit(cov_type='clustered', cluster_entity=True))"
      ],
      "execution_count": 11,
      "outputs": [
        {
          "output_type": "stream",
          "text": [
            "                          PanelOLS Estimation Summary                           \n",
            "================================================================================\n",
            "Dep. Variable:                  mrate   R-squared:                        0.0588\n",
            "Estimator:                   PanelOLS   R-squared (Between):              0.0999\n",
            "No. Observations:                 714   R-squared (Within):              -0.0199\n",
            "Date:                Mon, Aug 05 2019   R-squared (Overall):              0.0981\n",
            "Time:                        19:17:28   Log-likelihood                   -2704.6\n",
            "Cov. Estimator:             Clustered                                           \n",
            "                                        F-statistic:                      40.522\n",
            "Entities:                          51   P-value                           0.0000\n",
            "Avg Obs:                       14.000   Distribution:                   F(1,649)\n",
            "Min Obs:                       14.000                                           \n",
            "Max Obs:                       14.000   F-statistic (robust):             7.4185\n",
            "                                        P-value                           0.0066\n",
            "Time periods:                      14   Distribution:                   F(1,649)\n",
            "Avg Obs:                       51.000                                           \n",
            "Min Obs:                       51.000                                           \n",
            "Max Obs:                       51.000                                           \n",
            "                                                                                \n",
            "                             Parameter Estimates                              \n",
            "==============================================================================\n",
            "            Parameter  Std. Err.     T-stat    P-value    Lower CI    Upper CI\n",
            "------------------------------------------------------------------------------\n",
            "legal          12.413     4.5572     2.7237     0.0066      3.4638      21.361\n",
            "==============================================================================\n",
            "\n",
            "F-test for Poolability: 46.173\n",
            "P-value: 0.0000\n",
            "Distribution: F(63,649)\n",
            "\n",
            "Included effects: Entity, Time\n"
          ],
          "name": "stdout"
        }
      ]
    },
    {
      "cell_type": "code",
      "metadata": {
        "id": "p6eOpOidNTfZ",
        "colab_type": "code",
        "colab": {}
      },
      "source": [
        ""
      ],
      "execution_count": 0,
      "outputs": []
    }
  ]
}