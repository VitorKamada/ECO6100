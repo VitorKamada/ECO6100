{
  "nbformat": 4,
  "nbformat_minor": 0,
  "metadata": {
    "kernelspec": {
      "display_name": "Python 3",
      "language": "python",
      "name": "python3"
    },
    "language_info": {
      "codemirror_mode": {
        "name": "ipython",
        "version": 3
      },
      "file_extension": ".py",
      "mimetype": "text/x-python",
      "name": "python",
      "nbconvert_exporter": "python",
      "pygments_lexer": "ipython3",
      "version": "3.6.4"
    },
    "colab": {
      "name": "Survival Function and Hazard Rates.ipynb",
      "version": "0.3.2",
      "provenance": []
    }
  },
  "cells": [
    {
      "cell_type": "code",
      "metadata": {
        "id": "_S2PUVkvqvxz",
        "colab_type": "code",
        "colab": {
          "base_uri": "https://localhost:8080/",
          "height": 54
        },
        "outputId": "bfa775fe-298a-4d94-918d-3d7a408cadd4"
      },
      "source": [
        "\"\"\"\n",
        "Introduction to Survival Analysis\n",
        "https://lifelines.readthedocs.io/en/latest/Survival%20Analysis%20intro.html\n",
        "\"\"\""
      ],
      "execution_count": 1,
      "outputs": [
        {
          "output_type": "execute_result",
          "data": {
            "text/plain": [
              "'\\nIntroduction to Survival Analysis\\nhttps://lifelines.readthedocs.io/en/latest/Survival%20Analysis%20intro.html\\n'"
            ]
          },
          "metadata": {
            "tags": []
          },
          "execution_count": 1
        }
      ]
    },
    {
      "cell_type": "code",
      "metadata": {
        "id": "ukZGP_Wwq0K_",
        "colab_type": "code",
        "colab": {
          "base_uri": "https://localhost:8080/",
          "height": 317
        },
        "outputId": "17e571f8-78b3-4221-bec8-bb69280445b2"
      },
      "source": [
        "pip install lifelines"
      ],
      "execution_count": 2,
      "outputs": [
        {
          "output_type": "stream",
          "text": [
            "Requirement already satisfied: lifelines in /usr/local/lib/python3.6/dist-packages (0.22.2)\n",
            "Requirement already satisfied: autograd>=1.2 in /usr/local/lib/python3.6/dist-packages (from lifelines) (1.3)\n",
            "Requirement already satisfied: matplotlib>=3.0 in /usr/local/lib/python3.6/dist-packages (from lifelines) (3.0.3)\n",
            "Requirement already satisfied: pandas>=0.23.0 in /usr/local/lib/python3.6/dist-packages (from lifelines) (0.24.2)\n",
            "Requirement already satisfied: scipy>=1.0 in /usr/local/lib/python3.6/dist-packages (from lifelines) (1.3.0)\n",
            "Requirement already satisfied: bottleneck>=1.0 in /usr/local/lib/python3.6/dist-packages (from lifelines) (1.2.1)\n",
            "Requirement already satisfied: autograd-gamma>=0.3 in /usr/local/lib/python3.6/dist-packages (from lifelines) (0.4.1)\n",
            "Requirement already satisfied: numpy>=1.14.0 in /usr/local/lib/python3.6/dist-packages (from lifelines) (1.16.4)\n",
            "Requirement already satisfied: future>=0.15.2 in /usr/local/lib/python3.6/dist-packages (from autograd>=1.2->lifelines) (0.16.0)\n",
            "Requirement already satisfied: pyparsing!=2.0.4,!=2.1.2,!=2.1.6,>=2.0.1 in /usr/local/lib/python3.6/dist-packages (from matplotlib>=3.0->lifelines) (2.4.2)\n",
            "Requirement already satisfied: cycler>=0.10 in /usr/local/lib/python3.6/dist-packages (from matplotlib>=3.0->lifelines) (0.10.0)\n",
            "Requirement already satisfied: python-dateutil>=2.1 in /usr/local/lib/python3.6/dist-packages (from matplotlib>=3.0->lifelines) (2.5.3)\n",
            "Requirement already satisfied: kiwisolver>=1.0.1 in /usr/local/lib/python3.6/dist-packages (from matplotlib>=3.0->lifelines) (1.1.0)\n",
            "Requirement already satisfied: pytz>=2011k in /usr/local/lib/python3.6/dist-packages (from pandas>=0.23.0->lifelines) (2018.9)\n",
            "Requirement already satisfied: six in /usr/local/lib/python3.6/dist-packages (from cycler>=0.10->matplotlib>=3.0->lifelines) (1.12.0)\n",
            "Requirement already satisfied: setuptools in /usr/local/lib/python3.6/dist-packages (from kiwisolver>=1.0.1->matplotlib>=3.0->lifelines) (41.0.1)\n"
          ],
          "name": "stdout"
        }
      ]
    },
    {
      "cell_type": "code",
      "metadata": {
        "id": "jClKJbCiqvx4",
        "colab_type": "code",
        "colab": {}
      },
      "source": [
        "from lifelines.plotting import plot_lifetimes\n",
        "from numpy.random import uniform, exponential\n",
        "import numpy as np\n",
        "import matplotlib.pyplot as plt"
      ],
      "execution_count": 0,
      "outputs": []
    },
    {
      "cell_type": "code",
      "metadata": {
        "id": "3IqQqZ0Sqvx7",
        "colab_type": "code",
        "colab": {}
      },
      "source": [
        "N = 25\n",
        "current_time = 10\n",
        "actual_lifetimes = np.array([[exponential(12),\n",
        "  exponential(2)][uniform() < 0.5] for i in range(N)])\n",
        "observed_lifetimes = np.minimum(actual_lifetimes, \n",
        "                                current_time)\n",
        "observed = actual_lifetimes < current_time"
      ],
      "execution_count": 0,
      "outputs": []
    },
    {
      "cell_type": "code",
      "metadata": {
        "id": "x2sn_rp7qvx9",
        "colab_type": "code",
        "colab": {
          "base_uri": "https://localhost:8080/",
          "height": 566
        },
        "outputId": "34ae4107-bc5e-4f18-aad4-0553c07e4a92"
      },
      "source": [
        "plt.xlim(0, 25)\n",
        "plt.vlines(10, 0, 30, lw=2, linestyles='--')\n",
        "plt.xlabel(\"time\")\n",
        "plt.title(\"Births and deaths of our population, at $t=10$\")\n",
        "plot_lifetimes(observed_lifetimes, event_observed=observed)"
      ],
      "execution_count": 5,
      "outputs": [
        {
          "output_type": "execute_result",
          "data": {
            "text/plain": [
              "<matplotlib.axes._subplots.AxesSubplot at 0x7fce49390e10>"
            ]
          },
          "metadata": {
            "tags": []
          },
          "execution_count": 5
        },
        {
          "output_type": "display_data",
          "data": {
            "image/png": "[encoded data removed]",
            "text/plain": [
              "<Figure size 432x288 with 1 Axes>"
            ]
          },
          "metadata": {
            "tags": []
          }
        },
        {
          "output_type": "display_data",
          "data": {
            "image/png": "[encoded data removed]",
            "text/plain": [
              "<Figure size 432x288 with 1 Axes>"
            ]
          },
          "metadata": {
            "tags": []
          }
        }
      ]
    },
    {
      "cell_type": "code",
      "metadata": {
        "id": "dz4Lp9uHqvyA",
        "colab_type": "code",
        "colab": {
          "base_uri": "https://localhost:8080/",
          "height": 122
        },
        "outputId": "7b6a0d1f-d3af-4da2-d7f4-db96f8d881f8"
      },
      "source": [
        "print(\"Observed lifetimes at time %d:\\n\" % (current_time), observed_lifetimes)\n"
      ],
      "execution_count": 6,
      "outputs": [
        {
          "output_type": "stream",
          "text": [
            "Observed lifetimes at time 10:\n",
            " [ 3.8683096   6.5449969   2.5031821   2.47491139  3.87974208  2.92467912\n",
            " 10.         10.          2.78826725  1.36802492  6.01454144  0.74765758\n",
            "  1.5130148   1.47558294  1.05754482  1.35989596 10.          2.04528044\n",
            "  6.65739521  1.48392206  0.42485813  3.69853187  0.74070677  1.04917658\n",
            " 10.        ]\n"
          ],
          "name": "stdout"
        }
      ]
    },
    {
      "cell_type": "code",
      "metadata": {
        "id": "tme0tEvaqvyC",
        "colab_type": "code",
        "colab": {
          "base_uri": "https://localhost:8080/",
          "height": 538
        },
        "outputId": "3c16b49f-2cf0-4cc2-ec99-8452324c7848"
      },
      "source": [
        "plt.xlim(0,25)\n",
        "plt.vlines(10, 0, 30, lw=2, linestyles='--')\n",
        "plot_lifetimes(actual_lifetimes, event_observed=observed)"
      ],
      "execution_count": 7,
      "outputs": [
        {
          "output_type": "execute_result",
          "data": {
            "text/plain": [
              "<matplotlib.axes._subplots.AxesSubplot at 0x7fce46ad15c0>"
            ]
          },
          "metadata": {
            "tags": []
          },
          "execution_count": 7
        },
        {
          "output_type": "display_data",
          "data": {
            "image/png": "[encoded data removed]",
            "text/plain": [
              "<Figure size 432x288 with 1 Axes>"
            ]
          },
          "metadata": {
            "tags": []
          }
        },
        {
          "output_type": "display_data",
          "data": {
            "image/png": "[encoded data removed]",
            "text/plain": [
              "<Figure size 432x288 with 1 Axes>"
            ]
          },
          "metadata": {
            "tags": []
          }
        }
      ]
    },
    {
      "cell_type": "code",
      "metadata": {
        "id": "k73rPE36qvyF",
        "colab_type": "code",
        "colab": {
          "base_uri": "https://localhost:8080/",
          "height": 360
        },
        "outputId": "9e91cc1d-9f2e-4b73-e1f5-a5a29009ac59"
      },
      "source": [
        "import pandas as pd\n",
        "from lifelines.datasets import load_dd\n",
        "data = load_dd()\n",
        "data.sample(5)\n",
        "#the boolean columns `observed` refers to whether the death (leaving office)\n",
        "#was observed or not."
      ],
      "execution_count": 8,
      "outputs": [
        {
          "output_type": "execute_result",
          "data": {
            "text/html": [
              "<div>\n",
              "<style scoped>\n",
              "    .dataframe tbody tr th:only-of-type {\n",
              "        vertical-align: middle;\n",
              "    }\n",
              "\n",
              "    .dataframe tbody tr th {\n",
              "        vertical-align: top;\n",
              "    }\n",
              "\n",
              "    .dataframe thead th {\n",
              "        text-align: right;\n",
              "    }\n",
              "</style>\n",
              "<table border=\"1\" class=\"dataframe\">\n",
              "  <thead>\n",
              "    <tr style=\"text-align: right;\">\n",
              "      <th></th>\n",
              "      <th>ctryname</th>\n",
              "      <th>cowcode2</th>\n",
              "      <th>politycode</th>\n",
              "      <th>un_region_name</th>\n",
              "      <th>un_continent_name</th>\n",
              "      <th>ehead</th>\n",
              "      <th>leaderspellreg</th>\n",
              "      <th>democracy</th>\n",
              "      <th>regime</th>\n",
              "      <th>start_year</th>\n",
              "      <th>duration</th>\n",
              "      <th>observed</th>\n",
              "    </tr>\n",
              "  </thead>\n",
              "  <tbody>\n",
              "    <tr>\n",
              "      <th>1613</th>\n",
              "      <td>Thailand</td>\n",
              "      <td>800</td>\n",
              "      <td>800.0</td>\n",
              "      <td>South-Eastern Asia</td>\n",
              "      <td>Asia</td>\n",
              "      <td>Chatichai Choonhavan</td>\n",
              "      <td>Chatichai Choonhavan.Thailand.1988.1990.Parlia...</td>\n",
              "      <td>Democracy</td>\n",
              "      <td>Parliamentary Dem</td>\n",
              "      <td>1988</td>\n",
              "      <td>3</td>\n",
              "      <td>1</td>\n",
              "    </tr>\n",
              "    <tr>\n",
              "      <th>1145</th>\n",
              "      <td>Nicaragua</td>\n",
              "      <td>93</td>\n",
              "      <td>93.0</td>\n",
              "      <td>Central America</td>\n",
              "      <td>Americas</td>\n",
              "      <td>Anastasio Somoza Debayle</td>\n",
              "      <td>Anastasio Somoza Debayle.Nicaragua.1967.1978.M...</td>\n",
              "      <td>Non-democracy</td>\n",
              "      <td>Military Dict</td>\n",
              "      <td>1967</td>\n",
              "      <td>12</td>\n",
              "      <td>1</td>\n",
              "    </tr>\n",
              "    <tr>\n",
              "      <th>68</th>\n",
              "      <td>Australia</td>\n",
              "      <td>900</td>\n",
              "      <td>900.0</td>\n",
              "      <td>Australia and New Zealand</td>\n",
              "      <td>Oceania</td>\n",
              "      <td>William McMahon</td>\n",
              "      <td>William McMahon.Australia.1971.1971.Parliament...</td>\n",
              "      <td>Democracy</td>\n",
              "      <td>Parliamentary Dem</td>\n",
              "      <td>1971</td>\n",
              "      <td>1</td>\n",
              "      <td>1</td>\n",
              "    </tr>\n",
              "    <tr>\n",
              "      <th>1151</th>\n",
              "      <td>Nicaragua</td>\n",
              "      <td>93</td>\n",
              "      <td>93.0</td>\n",
              "      <td>Central America</td>\n",
              "      <td>Americas</td>\n",
              "      <td>Josï¿½ Daniel Ortega Saavedra</td>\n",
              "      <td>Josï¿½ Daniel Ortega Saavedra.Nicaragua.2007.2...</td>\n",
              "      <td>Democracy</td>\n",
              "      <td>Presidential Dem</td>\n",
              "      <td>2007</td>\n",
              "      <td>2</td>\n",
              "      <td>0</td>\n",
              "    </tr>\n",
              "    <tr>\n",
              "      <th>558</th>\n",
              "      <td>France</td>\n",
              "      <td>220</td>\n",
              "      <td>220.0</td>\n",
              "      <td>Western Europe</td>\n",
              "      <td>Europe</td>\n",
              "      <td>Pierre Messmer</td>\n",
              "      <td>Pierre Messmer.France.1972.1973.Mixed Dem</td>\n",
              "      <td>Democracy</td>\n",
              "      <td>Mixed Dem</td>\n",
              "      <td>1972</td>\n",
              "      <td>2</td>\n",
              "      <td>1</td>\n",
              "    </tr>\n",
              "  </tbody>\n",
              "</table>\n",
              "</div>"
            ],
            "text/plain": [
              "       ctryname  cowcode2  politycode  ... start_year duration observed\n",
              "1613   Thailand       800       800.0  ...       1988        3        1\n",
              "1145  Nicaragua        93        93.0  ...       1967       12        1\n",
              "68    Australia       900       900.0  ...       1971        1        1\n",
              "1151  Nicaragua        93        93.0  ...       2007        2        0\n",
              "558      France       220       220.0  ...       1972        2        1\n",
              "\n",
              "[5 rows x 12 columns]"
            ]
          },
          "metadata": {
            "tags": []
          },
          "execution_count": 8
        }
      ]
    },
    {
      "cell_type": "code",
      "metadata": {
        "id": "sSlUkRFhqvyH",
        "colab_type": "code",
        "colab": {
          "base_uri": "https://localhost:8080/",
          "height": 34
        },
        "outputId": "e5e2058a-fbea-48af-d32c-5c295482a3c6"
      },
      "source": [
        "from lifelines import KaplanMeierFitter\n",
        "kmf = KaplanMeierFitter()\n",
        "\n",
        "T = data[\"duration\"]\n",
        "E = data[\"observed\"]\n",
        "\n",
        "kmf.fit(T, event_observed=E)"
      ],
      "execution_count": 9,
      "outputs": [
        {
          "output_type": "execute_result",
          "data": {
            "text/plain": [
              "<lifelines.KaplanMeierFitter: fitted with 1808 observations, 340 censored>"
            ]
          },
          "metadata": {
            "tags": []
          },
          "execution_count": 9
        }
      ]
    },
    {
      "cell_type": "code",
      "metadata": {
        "id": "aqkH6y_WqvyL",
        "colab_type": "code",
        "colab": {
          "base_uri": "https://localhost:8080/",
          "height": 34
        },
        "outputId": "bc38e2e9-fc56-485b-cde2-114fbe1cb099"
      },
      "source": [
        "kmf.median_"
      ],
      "execution_count": 10,
      "outputs": [
        {
          "output_type": "execute_result",
          "data": {
            "text/plain": [
              "4.0"
            ]
          },
          "metadata": {
            "tags": []
          },
          "execution_count": 10
        }
      ]
    },
    {
      "cell_type": "code",
      "metadata": {
        "id": "QQhPDqtKqvyO",
        "colab_type": "code",
        "colab": {
          "base_uri": "https://localhost:8080/",
          "height": 300
        },
        "outputId": "4e560f08-e5c0-4058-d0fa-31a6953b0de3"
      },
      "source": [
        "kmf.plot()"
      ],
      "execution_count": 11,
      "outputs": [
        {
          "output_type": "execute_result",
          "data": {
            "text/plain": [
              "<matplotlib.axes._subplots.AxesSubplot at 0x7fce4651b048>"
            ]
          },
          "metadata": {
            "tags": []
          },
          "execution_count": 11
        },
        {
          "output_type": "display_data",
          "data": {
            "image/png": "[encoded data removed]",
            "text/plain": [
              "<Figure size 432x288 with 1 Axes>"
            ]
          },
          "metadata": {
            "tags": []
          }
        }
      ]
    },
    {
      "cell_type": "code",
      "metadata": {
        "id": "o1kPk3BoqvyR",
        "colab_type": "code",
        "colab": {
          "base_uri": "https://localhost:8080/",
          "height": 330
        },
        "outputId": "4eb3b5b0-54e5-4d19-f8a1-03e4c917ce12"
      },
      "source": [
        "ax = plt.subplot(111)\n",
        "dem = (data[\"democracy\"] == \"Democracy\")\n",
        "\n",
        "t = np.linspace(0, 50, 51)\n",
        "kmf.fit(T[dem], event_observed=E[dem], timeline=t, \n",
        "        label=\"Democratic Regimes\")\n",
        "ax = kmf.plot(ax=ax)\n",
        "print(\"Median survival time of democratic:\", kmf.median_)\n",
        "\n",
        "kmf.fit(T[~dem], event_observed=E[~dem], timeline=t, \n",
        "        label=\"Non-democratic Regimes\")\n",
        "ax = kmf.plot(ax=ax)\n",
        "print(\"Median survival time of non-democratic:\", kmf.median_)\n",
        "\n",
        "plt.ylim(0,1)\n",
        "plt.title(\"Lifespans of different global regimes\"); "
      ],
      "execution_count": 12,
      "outputs": [
        {
          "output_type": "stream",
          "text": [
            "Median survival time of democratic: 3.0\n",
            "Median survival time of non-democratic: 6.0\n"
          ],
          "name": "stdout"
        },
        {
          "output_type": "display_data",
          "data": {
            "image/png": "[encoded data removed]",
            "text/plain": [
              "<Figure size 432x288 with 1 Axes>"
            ]
          },
          "metadata": {
            "tags": []
          }
        }
      ]
    },
    {
      "cell_type": "code",
      "metadata": {
        "scrolled": true,
        "id": "GSAjrcM1qvyT",
        "colab_type": "code",
        "colab": {
          "base_uri": "https://localhost:8080/",
          "height": 174
        },
        "outputId": "2d441574-4a0f-43e5-d895-0ba8976a03a2"
      },
      "source": [
        "from lifelines.statistics import logrank_test\n",
        "results = logrank_test(T[dem], T[~dem], \n",
        "                E[dem], E[~dem], alpha=.99)\n",
        "results.print_summary()"
      ],
      "execution_count": 13,
      "outputs": [
        {
          "output_type": "stream",
          "text": [
            "<lifelines.StatisticalResult>\n",
            "               t_0 = -1\n",
            " null_distribution = chi squared\n",
            "degrees_of_freedom = 1\n",
            "             alpha = 0.99\n",
            "\n",
            "---\n",
            " test_statistic      p  -log2(p)\n",
            "         260.47 <0.005    192.23\n"
          ],
          "name": "stdout"
        }
      ]
    },
    {
      "cell_type": "code",
      "metadata": {
        "id": "pqX9d8hIqvyW",
        "colab_type": "code",
        "colab": {
          "base_uri": "https://localhost:8080/",
          "height": 307
        },
        "outputId": "b21a7330-aa64-4530-dab9-6840246a1b21"
      },
      "source": [
        "regime_types = data['regime'].unique()\n",
        "\n",
        "for i,regime_type in enumerate(regime_types):\n",
        "    ax = plt.subplot(2, 3, i+1)\n",
        "    ix = data['regime'] == regime_type\n",
        "    kmf.fit( T[ix], E[ix], label=regime_type)\n",
        "    kmf.plot(ax=ax, legend=False)\n",
        "    plt.title(regime_type)\n",
        "    plt.xlim(0, 50)\n",
        "    if i==0:\n",
        "        plt.ylabel('Frac. in power after $n$ years')\n",
        "plt.tight_layout()"
      ],
      "execution_count": 14,
      "outputs": [
        {
          "output_type": "display_data",
          "data": {
            "image/png": "[encoded data removed]",
            "text/plain": [
              "<Figure size 432x288 with 6 Axes>"
            ]
          },
          "metadata": {
            "tags": []
          }
        }
      ]
    },
    {
      "cell_type": "code",
      "metadata": {
        "id": "xQWoYoCNqvyZ",
        "colab_type": "code",
        "colab": {
          "base_uri": "https://localhost:8080/",
          "height": 139
        },
        "outputId": "689baa04-639d-4416-baa0-19aceb73448c"
      },
      "source": [
        "from lifelines import NelsonAalenFitter\n",
        "naf = NelsonAalenFitter()\n",
        "naf.fit(T,event_observed=E)\n",
        "print(naf.cumulative_hazard_.head())"
      ],
      "execution_count": 15,
      "outputs": [
        {
          "output_type": "stream",
          "text": [
            "          NA_estimate\n",
            "timeline             \n",
            "0.0          0.000000\n",
            "1.0          0.325912\n",
            "2.0          0.507356\n",
            "3.0          0.671251\n",
            "4.0          0.869867\n"
          ],
          "name": "stdout"
        }
      ]
    },
    {
      "cell_type": "code",
      "metadata": {
        "id": "mtsQqTlRqvyc",
        "colab_type": "code",
        "colab": {
          "base_uri": "https://localhost:8080/",
          "height": 300
        },
        "outputId": "60744187-67b2-4cc4-9673-b19d33476c0c"
      },
      "source": [
        "naf.plot()"
      ],
      "execution_count": 16,
      "outputs": [
        {
          "output_type": "execute_result",
          "data": {
            "text/plain": [
              "<matplotlib.axes._subplots.AxesSubplot at 0x7fce464d75f8>"
            ]
          },
          "metadata": {
            "tags": []
          },
          "execution_count": 16
        },
        {
          "output_type": "display_data",
          "data": {
            "image/png": "[encoded data removed]",
            "text/plain": [
              "<Figure size 432x288 with 1 Axes>"
            ]
          },
          "metadata": {
            "tags": []
          }
        }
      ]
    },
    {
      "cell_type": "code",
      "metadata": {
        "id": "a18Ln_rVqvyf",
        "colab_type": "code",
        "colab": {
          "base_uri": "https://localhost:8080/",
          "height": 295
        },
        "outputId": "32a03863-8c2c-4967-d1f5-20ad3b2a2bab"
      },
      "source": [
        "naf.fit(T[dem], event_observed=E[dem], label=\"Democratic Regimes\")\n",
        "ax = naf.plot(loc=slice(0, 20))\n",
        "naf.fit(T[~dem], event_observed=E[~dem], label=\"Non-democratic Regimes\")\n",
        "naf.plot(ax=ax, loc=slice(0, 20))\n",
        "plt.title(\"Cumulative hazard function of different global regimes\");"
      ],
      "execution_count": 17,
      "outputs": [
        {
          "output_type": "display_data",
          "data": {
            "image/png": "[encoded data removed]",
            "text/plain": [
              "<Figure size 432x288 with 1 Axes>"
            ]
          },
          "metadata": {
            "tags": []
          }
        }
      ]
    },
    {
      "cell_type": "code",
      "metadata": {
        "id": "VZFAWS5Pqvyi",
        "colab_type": "code",
        "colab": {}
      },
      "source": [
        ""
      ],
      "execution_count": 0,
      "outputs": []
    }
  ]
}