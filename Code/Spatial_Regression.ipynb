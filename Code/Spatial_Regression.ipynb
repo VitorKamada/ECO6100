{
  "nbformat": 4,
  "nbformat_minor": 0,
  "metadata": {
    "colab": {
      "name": "Spatial_Regression.ipynb",
      "provenance": [],
      "collapsed_sections": []
    },
    "kernelspec": {
      "name": "python3",
      "display_name": "Python 3"
    }
  },
  "cells": [
    {
      "cell_type": "markdown",
      "metadata": {
        "id": "3kf4X5p0enHV",
        "colab_type": "text"
      },
      "source": [
        "# Spatial Regression with PySAL 2.0"
      ]
    },
    {
      "cell_type": "markdown",
      "metadata": {
        "id": "mSECXSB0en2V",
        "colab_type": "text"
      },
      "source": [
        "Vitor Kamada\n",
        "\n",
        "Last change: 9/28/2019"
      ]
    },
    {
      "cell_type": "markdown",
      "metadata": {
        "id": "x8iUklfIfOVW",
        "colab_type": "text"
      },
      "source": [
        "The baseline code here is from Rey and Arribas-Bel (2018). Geographic Data\n",
        "Science with PySAL.\n",
        "http://darribas.org/gds_scipy16/\n",
        "\n",
        "Rey and Arribas-Bel (2018) wrote the code  to run in Anaconda, using PySAL 1.11. \n",
        "\n",
        "I added and modified many parts of the code to run in Google Colab and PySAL 2.0.\n"
      ]
    },
    {
      "cell_type": "markdown",
      "metadata": {
        "id": "q12mgb_2hwX-",
        "colab_type": "text"
      },
      "source": [
        "# Installing spatialindex, rtree, and pysal 2.0."
      ]
    },
    {
      "cell_type": "code",
      "metadata": {
        "id": "DaagvCK5eoZF",
        "colab_type": "code",
        "colab": {}
      },
      "source": [
        "!apt-get install -qq curl g++ make"
      ],
      "execution_count": 0,
      "outputs": []
    },
    {
      "cell_type": "code",
      "metadata": {
        "id": "rwh2MFYa98qA",
        "colab_type": "code",
        "outputId": "c8529db1-7955-41d2-abcb-eac1f843eeaa",
        "colab": {
          "base_uri": "https://localhost:8080/",
          "height": 69
        }
      },
      "source": [
        "!curl -L http://download.osgeo.org/libspatialindex/spatialindex-src-1.8.5.tar.gz | tar xz"
      ],
      "execution_count": 2,
      "outputs": [
        {
          "output_type": "stream",
          "text": [
            "  % Total    % Received % Xferd  Average Speed   Time    Time     Time  Current\n",
            "                                 Dload  Upload   Total   Spent    Left  Speed\n",
            "100  556k  100  556k    0     0   675k      0 --:--:-- --:--:-- --:--:--  674k\n"
          ],
          "name": "stdout"
        }
      ]
    },
    {
      "cell_type": "code",
      "metadata": {
        "id": "ubCa85LE-BX1",
        "colab_type": "code",
        "colab": {}
      },
      "source": [
        "import os\n",
        "os.chdir('spatialindex-src-1.8.5')"
      ],
      "execution_count": 0,
      "outputs": []
    },
    {
      "cell_type": "code",
      "metadata": {
        "id": "0jrkOFh7FEcT",
        "colab_type": "code",
        "outputId": "98e88cb2-cf06-4aba-99f9-07c218fe4e72",
        "colab": {
          "base_uri": "https://localhost:8080/",
          "height": 1000
        }
      },
      "source": [
        "!./configure"
      ],
      "execution_count": 4,
      "outputs": [
        {
          "output_type": "stream",
          "text": [
            "checking build system type... x86_64-unknown-linux-gnu\n",
            "checking for g++... g++\n",
            "checking whether the C++ compiler works... yes\n",
            "checking for C++ compiler default output file name... a.out\n",
            "checking for suffix of executables... \n",
            "checking whether we are cross compiling... no\n",
            "checking for suffix of object files... o\n",
            "checking whether we are using the GNU C++ compiler... yes\n",
            "checking whether g++ accepts -g... yes\n",
            "checking how to run the C++ preprocessor... g++ -E\n",
            "checking for a BSD-compatible install... /usr/bin/install -c\n",
            "checking whether ln -s works... yes\n",
            "checking whether make sets $(MAKE)... yes\n",
            "checking host system type... x86_64-unknown-linux-gnu\n",
            "checking how to print strings... printf\n",
            "checking for gcc... gcc\n",
            "checking whether we are using the GNU C compiler... yes\n",
            "checking whether gcc accepts -g... yes\n",
            "checking for gcc option to accept ISO C89... none needed\n",
            "checking whether gcc understands -c and -o together... yes\n",
            "checking for a sed that does not truncate output... /bin/sed\n",
            "checking for grep that handles long lines and -e... /bin/grep\n",
            "checking for egrep... /bin/grep -E\n",
            "checking for fgrep... /bin/grep -F\n",
            "checking for ld used by gcc... /usr/bin/ld\n",
            "checking if the linker (/usr/bin/ld) is GNU ld... yes\n",
            "checking for BSD- or MS-compatible name lister (nm)... /usr/bin/nm -B\n",
            "checking the name lister (/usr/bin/nm -B) interface... BSD nm\n",
            "checking the maximum length of command line arguments... 1572864\n",
            "checking whether the shell understands some XSI constructs... yes\n",
            "checking whether the shell understands \"+=\"... yes\n",
            "checking how to convert x86_64-unknown-linux-gnu file names to x86_64-unknown-linux-gnu format... func_convert_file_noop\n",
            "checking how to convert x86_64-unknown-linux-gnu file names to toolchain format... func_convert_file_noop\n",
            "checking for /usr/bin/ld option to reload object files... -r\n",
            "checking for objdump... objdump\n",
            "checking how to recognize dependent libraries... pass_all\n",
            "checking for dlltool... no\n",
            "checking how to associate runtime and link libraries... printf %s\\n\n",
            "checking for ar... ar\n",
            "checking for archiver @FILE support... @\n",
            "checking for strip... strip\n",
            "checking for ranlib... ranlib\n",
            "checking for gawk... no\n",
            "checking for mawk... mawk\n",
            "checking command to parse /usr/bin/nm -B output from gcc object... ok\n",
            "checking for sysroot... no\n",
            "./configure: line 6204: /usr/bin/file: No such file or directory\n",
            "checking for mt... no\n",
            "checking if : is a manifest tool... no\n",
            "checking how to run the C preprocessor... gcc -E\n",
            "checking for ANSI C header files... yes\n",
            "checking for sys/types.h... yes\n",
            "checking for sys/stat.h... yes\n",
            "checking for stdlib.h... yes\n",
            "checking for string.h... yes\n",
            "checking for memory.h... yes\n",
            "checking for strings.h... yes\n",
            "checking for inttypes.h... yes\n",
            "checking for stdint.h... yes\n",
            "checking for unistd.h... yes\n",
            "checking for dlfcn.h... yes\n",
            "checking for objdir... .libs\n",
            "checking if gcc supports -fno-rtti -fno-exceptions... no\n",
            "checking for gcc option to produce PIC... -fPIC -DPIC\n",
            "checking if gcc PIC flag -fPIC -DPIC works... yes\n",
            "checking if gcc static flag -static works... yes\n",
            "checking if gcc supports -c -o file.o... yes\n",
            "checking if gcc supports -c -o file.o... (cached) yes\n",
            "checking whether the gcc linker (/usr/bin/ld) supports shared libraries... yes\n",
            "checking whether -lc should be explicitly linked in... no\n",
            "checking dynamic linker characteristics... GNU/Linux ld.so\n",
            "checking how to hardcode library paths into programs... immediate\n",
            "checking whether stripping libraries is possible... yes\n",
            "checking if libtool supports shared libraries... yes\n",
            "checking whether to build shared libraries... yes\n",
            "checking whether to build static libraries... yes\n",
            "checking how to run the C++ preprocessor... g++ -E\n",
            "checking for ld used by g++... /usr/bin/ld\n",
            "checking if the linker (/usr/bin/ld) is GNU ld... yes\n",
            "checking whether the g++ linker (/usr/bin/ld) supports shared libraries... yes\n",
            "checking for g++ option to produce PIC... -fPIC -DPIC\n",
            "checking if g++ PIC flag -fPIC -DPIC works... yes\n",
            "checking if g++ static flag -static works... yes\n",
            "checking if g++ supports -c -o file.o... yes\n",
            "checking if g++ supports -c -o file.o... (cached) yes\n",
            "checking whether the g++ linker (/usr/bin/ld) supports shared libraries... yes\n",
            "checking dynamic linker characteristics... (cached) GNU/Linux ld.so\n",
            "checking how to hardcode library paths into programs... immediate\n",
            "checking whether build environment is sane... yes\n",
            "/content/spatialindex-src-1.8.5/missing: Unknown `--is-lightweight' option\n",
            "Try `/content/spatialindex-src-1.8.5/missing --help' for more information\n",
            "configure: WARNING: 'missing' script is too old or missing\n",
            "checking for a thread-safe mkdir -p... /bin/mkdir -p\n",
            "checking for style of include used by make... GNU\n",
            "checking whether make supports nested variables... yes\n",
            "checking dependency style of gcc... gcc3\n",
            "checking dependency style of g++... gcc3\n",
            "checking fcntl.h usability... yes\n",
            "checking fcntl.h presence... yes\n",
            "checking for fcntl.h... yes\n",
            "checking for unistd.h... (cached) yes\n",
            "checking for sys/types.h... (cached) yes\n",
            "checking for sys/stat.h... (cached) yes\n",
            "checking pthread.h usability... yes\n",
            "checking pthread.h presence... yes\n",
            "checking for pthread.h... yes\n",
            "checking sys/resource.h usability... yes\n",
            "checking sys/resource.h presence... yes\n",
            "checking for sys/resource.h... yes\n",
            "checking sys/time.h usability... yes\n",
            "checking sys/time.h presence... yes\n",
            "checking for sys/time.h... yes\n",
            "checking for stdint.h... (cached) yes\n",
            "checking features.h usability... yes\n",
            "checking features.h presence... yes\n",
            "checking for features.h... yes\n",
            "checking wether debug information is enabled... no\n",
            "checking for gettimeofday... yes\n",
            "checking for memset... yes\n",
            "checking for memcpy... yes\n",
            "checking for bcopy... yes\n",
            "checking for srand48... yes\n",
            "checking that generated files are newer than configure... done\n",
            "configure: creating ./config.status\n",
            "config.status: creating Makefile\n",
            "config.status: creating include/Makefile\n",
            "config.status: creating src/Makefile\n",
            "config.status: creating src/libspatialindex.pc\n",
            "config.status: creating src/capi/Makefile\n",
            "config.status: creating src/spatialindex/Makefile\n",
            "config.status: creating src/storagemanager/Makefile\n",
            "config.status: creating src/rtree/Makefile\n",
            "config.status: creating src/mvrtree/Makefile\n",
            "config.status: creating src/tprtree/Makefile\n",
            "config.status: creating src/tools/Makefile\n",
            "config.status: creating test/Makefile\n",
            "config.status: creating test/geometry/Makefile\n",
            "config.status: creating test/rtree/Makefile\n",
            "config.status: creating test/mvrtree/Makefile\n",
            "config.status: creating test/tprtree/Makefile\n",
            "config.status: executing libtool commands\n",
            "config.status: executing depfiles commands\n"
          ],
          "name": "stdout"
        }
      ]
    },
    {
      "cell_type": "code",
      "metadata": {
        "id": "6-HFsw2mFDCV",
        "colab_type": "code",
        "outputId": "dd25241a-91a9-4171-ad1c-e03567d539a3",
        "colab": {
          "base_uri": "https://localhost:8080/",
          "height": 1000
        }
      },
      "source": [
        "!make"
      ],
      "execution_count": 5,
      "outputs": [
        {
          "output_type": "stream",
          "text": [
            "Making all in src\n",
            "make[1]: Entering directory '/content/spatialindex-src-1.8.5/src'\n",
            "Making all in storagemanager\n",
            "make[2]: Entering directory '/content/spatialindex-src-1.8.5/src/storagemanager'\n",
            "make[2]: Nothing to be done for 'all'.\n",
            "make[2]: Leaving directory '/content/spatialindex-src-1.8.5/src/storagemanager'\n",
            "Making all in spatialindex\n",
            "make[2]: Entering directory '/content/spatialindex-src-1.8.5/src/spatialindex'\n",
            "make[2]: Nothing to be done for 'all'.\n",
            "make[2]: Leaving directory '/content/spatialindex-src-1.8.5/src/spatialindex'\n",
            "Making all in rtree\n",
            "make[2]: Entering directory '/content/spatialindex-src-1.8.5/src/rtree'\n",
            "make[2]: Nothing to be done for 'all'.\n",
            "make[2]: Leaving directory '/content/spatialindex-src-1.8.5/src/rtree'\n",
            "Making all in mvrtree\n",
            "make[2]: Entering directory '/content/spatialindex-src-1.8.5/src/mvrtree'\n",
            "make[2]: Nothing to be done for 'all'.\n",
            "make[2]: Leaving directory '/content/spatialindex-src-1.8.5/src/mvrtree'\n",
            "Making all in tprtree\n",
            "make[2]: Entering directory '/content/spatialindex-src-1.8.5/src/tprtree'\n",
            "make[2]: Nothing to be done for 'all'.\n",
            "make[2]: Leaving directory '/content/spatialindex-src-1.8.5/src/tprtree'\n",
            "Making all in tools\n",
            "make[2]: Entering directory '/content/spatialindex-src-1.8.5/src/tools'\n",
            "make[2]: Nothing to be done for 'all'.\n",
            "make[2]: Leaving directory '/content/spatialindex-src-1.8.5/src/tools'\n",
            "Making all in capi\n",
            "make[2]: Entering directory '/content/spatialindex-src-1.8.5/src/capi'\n",
            "make[2]: Nothing to be done for 'all'.\n",
            "make[2]: Leaving directory '/content/spatialindex-src-1.8.5/src/capi'\n",
            "make[2]: Entering directory '/content/spatialindex-src-1.8.5/src'\n",
            "make[2]: Nothing to be done for 'all-am'.\n",
            "make[2]: Leaving directory '/content/spatialindex-src-1.8.5/src'\n",
            "make[1]: Leaving directory '/content/spatialindex-src-1.8.5/src'\n",
            "Making all in .\n",
            "make[1]: Entering directory '/content/spatialindex-src-1.8.5'\n",
            "make[1]: Nothing to be done for 'all-am'.\n",
            "make[1]: Leaving directory '/content/spatialindex-src-1.8.5'\n",
            "Making all in test\n",
            "make[1]: Entering directory '/content/spatialindex-src-1.8.5/test'\n",
            "Making all in geometry\n",
            "make[2]: Entering directory '/content/spatialindex-src-1.8.5/test/geometry'\n",
            "make[2]: Nothing to be done for 'all'.\n",
            "make[2]: Leaving directory '/content/spatialindex-src-1.8.5/test/geometry'\n",
            "Making all in rtree\n",
            "make[2]: Entering directory '/content/spatialindex-src-1.8.5/test/rtree'\n",
            "make[2]: Nothing to be done for 'all'.\n",
            "make[2]: Leaving directory '/content/spatialindex-src-1.8.5/test/rtree'\n",
            "Making all in mvrtree\n",
            "make[2]: Entering directory '/content/spatialindex-src-1.8.5/test/mvrtree'\n",
            "make[2]: Nothing to be done for 'all'.\n",
            "make[2]: Leaving directory '/content/spatialindex-src-1.8.5/test/mvrtree'\n",
            "Making all in tprtree\n",
            "make[2]: Entering directory '/content/spatialindex-src-1.8.5/test/tprtree'\n",
            "make[2]: Nothing to be done for 'all'.\n",
            "make[2]: Leaving directory '/content/spatialindex-src-1.8.5/test/tprtree'\n",
            "make[2]: Entering directory '/content/spatialindex-src-1.8.5/test'\n",
            "make[2]: Nothing to be done for 'all-am'.\n",
            "make[2]: Leaving directory '/content/spatialindex-src-1.8.5/test'\n",
            "make[1]: Leaving directory '/content/spatialindex-src-1.8.5/test'\n",
            "Making all in include\n",
            "make[1]: Entering directory '/content/spatialindex-src-1.8.5/include'\n",
            "make[1]: Nothing to be done for 'all'.\n",
            "make[1]: Leaving directory '/content/spatialindex-src-1.8.5/include'\n"
          ],
          "name": "stdout"
        }
      ]
    },
    {
      "cell_type": "code",
      "metadata": {
        "id": "gMwIcXqlFsNB",
        "colab_type": "code",
        "outputId": "7d538f1d-576d-49f1-f416-ef3564843d5d",
        "colab": {
          "base_uri": "https://localhost:8080/",
          "height": 1000
        }
      },
      "source": [
        "!make install"
      ],
      "execution_count": 6,
      "outputs": [
        {
          "output_type": "stream",
          "text": [
            "Making install in src\n",
            "make[1]: Entering directory '/content/spatialindex-src-1.8.5/src'\n",
            "Making install in storagemanager\n",
            "make[2]: Entering directory '/content/spatialindex-src-1.8.5/src/storagemanager'\n",
            "make[3]: Entering directory '/content/spatialindex-src-1.8.5/src/storagemanager'\n",
            "make[3]: Nothing to be done for 'install-exec-am'.\n",
            "make[3]: Nothing to be done for 'install-data-am'.\n",
            "make[3]: Leaving directory '/content/spatialindex-src-1.8.5/src/storagemanager'\n",
            "make[2]: Leaving directory '/content/spatialindex-src-1.8.5/src/storagemanager'\n",
            "Making install in spatialindex\n",
            "make[2]: Entering directory '/content/spatialindex-src-1.8.5/src/spatialindex'\n",
            "make[3]: Entering directory '/content/spatialindex-src-1.8.5/src/spatialindex'\n",
            "make[3]: Nothing to be done for 'install-exec-am'.\n",
            "make[3]: Nothing to be done for 'install-data-am'.\n",
            "make[3]: Leaving directory '/content/spatialindex-src-1.8.5/src/spatialindex'\n",
            "make[2]: Leaving directory '/content/spatialindex-src-1.8.5/src/spatialindex'\n",
            "Making install in rtree\n",
            "make[2]: Entering directory '/content/spatialindex-src-1.8.5/src/rtree'\n",
            "make[3]: Entering directory '/content/spatialindex-src-1.8.5/src/rtree'\n",
            "make[3]: Nothing to be done for 'install-exec-am'.\n",
            "make[3]: Nothing to be done for 'install-data-am'.\n",
            "make[3]: Leaving directory '/content/spatialindex-src-1.8.5/src/rtree'\n",
            "make[2]: Leaving directory '/content/spatialindex-src-1.8.5/src/rtree'\n",
            "Making install in mvrtree\n",
            "make[2]: Entering directory '/content/spatialindex-src-1.8.5/src/mvrtree'\n",
            "make[3]: Entering directory '/content/spatialindex-src-1.8.5/src/mvrtree'\n",
            "make[3]: Nothing to be done for 'install-exec-am'.\n",
            "make[3]: Nothing to be done for 'install-data-am'.\n",
            "make[3]: Leaving directory '/content/spatialindex-src-1.8.5/src/mvrtree'\n",
            "make[2]: Leaving directory '/content/spatialindex-src-1.8.5/src/mvrtree'\n",
            "Making install in tprtree\n",
            "make[2]: Entering directory '/content/spatialindex-src-1.8.5/src/tprtree'\n",
            "make[3]: Entering directory '/content/spatialindex-src-1.8.5/src/tprtree'\n",
            "make[3]: Nothing to be done for 'install-exec-am'.\n",
            "make[3]: Nothing to be done for 'install-data-am'.\n",
            "make[3]: Leaving directory '/content/spatialindex-src-1.8.5/src/tprtree'\n",
            "make[2]: Leaving directory '/content/spatialindex-src-1.8.5/src/tprtree'\n",
            "Making install in tools\n",
            "make[2]: Entering directory '/content/spatialindex-src-1.8.5/src/tools'\n",
            "make[3]: Entering directory '/content/spatialindex-src-1.8.5/src/tools'\n",
            "make[3]: Nothing to be done for 'install-exec-am'.\n",
            "make[3]: Nothing to be done for 'install-data-am'.\n",
            "make[3]: Leaving directory '/content/spatialindex-src-1.8.5/src/tools'\n",
            "make[2]: Leaving directory '/content/spatialindex-src-1.8.5/src/tools'\n",
            "Making install in capi\n",
            "make[2]: Entering directory '/content/spatialindex-src-1.8.5/src/capi'\n",
            "make[3]: Entering directory '/content/spatialindex-src-1.8.5/src/capi'\n",
            "make[3]: Nothing to be done for 'install-exec-am'.\n",
            "make[3]: Nothing to be done for 'install-data-am'.\n",
            "make[3]: Leaving directory '/content/spatialindex-src-1.8.5/src/capi'\n",
            "make[2]: Leaving directory '/content/spatialindex-src-1.8.5/src/capi'\n",
            "make[2]: Entering directory '/content/spatialindex-src-1.8.5/src'\n",
            "make[3]: Entering directory '/content/spatialindex-src-1.8.5/src'\n",
            "make[3]: Nothing to be done for 'install-exec-am'.\n",
            " /bin/mkdir -p '/usr/local/lib/pkgconfig'\n",
            " /usr/bin/install -c -m 644 libspatialindex.pc '/usr/local/lib/pkgconfig'\n",
            "make[3]: Leaving directory '/content/spatialindex-src-1.8.5/src'\n",
            "make[2]: Leaving directory '/content/spatialindex-src-1.8.5/src'\n",
            "make[1]: Leaving directory '/content/spatialindex-src-1.8.5/src'\n",
            "Making install in .\n",
            "make[1]: Entering directory '/content/spatialindex-src-1.8.5'\n",
            "make[2]: Entering directory '/content/spatialindex-src-1.8.5'\n",
            " /bin/mkdir -p '/usr/local/lib'\n",
            " /bin/bash ./libtool   --mode=install /usr/bin/install -c   libspatialindex.la libspatialindex_c.la '/usr/local/lib'\n",
            "libtool: install: /usr/bin/install -c .libs/libspatialindex.so.4.0.1 /usr/local/lib/libspatialindex.so.4.0.1\n",
            "libtool: install: (cd /usr/local/lib && { ln -s -f libspatialindex.so.4.0.1 libspatialindex.so.4 || { rm -f libspatialindex.so.4 && ln -s libspatialindex.so.4.0.1 libspatialindex.so.4; }; })\n",
            "libtool: install: (cd /usr/local/lib && { ln -s -f libspatialindex.so.4.0.1 libspatialindex.so || { rm -f libspatialindex.so && ln -s libspatialindex.so.4.0.1 libspatialindex.so; }; })\n",
            "libtool: install: /usr/bin/install -c .libs/libspatialindex.lai /usr/local/lib/libspatialindex.la\n",
            "libtool: install: warning: relinking `libspatialindex_c.la'\n",
            "libtool: install: (cd /content/spatialindex-src-1.8.5; /bin/bash /content/spatialindex-src-1.8.5/libtool  --tag CC --mode=relink gcc -Wall -Wno-long-long -pedantic -version-info 4:1:0 -no-undefined -lstdc++ -o libspatialindex_c.la -rpath /usr/local/lib libspatialindex.la src/capi/libsidxc.la -lpthread )\n",
            "libtool: relink: gcc -shared  -fPIC -DPIC  -Wl,--whole-archive src/capi/.libs/libsidxc.a -Wl,--no-whole-archive  -lstdc++ -L/usr/local/lib -lspatialindex -lpthread    -Wl,-soname -Wl,libspatialindex_c.so.4 -o .libs/libspatialindex_c.so.4.0.1\n",
            "libtool: install: /usr/bin/install -c .libs/libspatialindex_c.so.4.0.1T /usr/local/lib/libspatialindex_c.so.4.0.1\n",
            "libtool: install: (cd /usr/local/lib && { ln -s -f libspatialindex_c.so.4.0.1 libspatialindex_c.so.4 || { rm -f libspatialindex_c.so.4 && ln -s libspatialindex_c.so.4.0.1 libspatialindex_c.so.4; }; })\n",
            "libtool: install: (cd /usr/local/lib && { ln -s -f libspatialindex_c.so.4.0.1 libspatialindex_c.so || { rm -f libspatialindex_c.so && ln -s libspatialindex_c.so.4.0.1 libspatialindex_c.so; }; })\n",
            "libtool: install: /usr/bin/install -c .libs/libspatialindex_c.lai /usr/local/lib/libspatialindex_c.la\n",
            "libtool: install: /usr/bin/install -c .libs/libspatialindex.a /usr/local/lib/libspatialindex.a\n",
            "libtool: install: chmod 644 /usr/local/lib/libspatialindex.a\n",
            "libtool: install: ranlib /usr/local/lib/libspatialindex.a\n",
            "libtool: install: /usr/bin/install -c .libs/libspatialindex_c.a /usr/local/lib/libspatialindex_c.a\n",
            "libtool: install: chmod 644 /usr/local/lib/libspatialindex_c.a\n",
            "libtool: install: ranlib /usr/local/lib/libspatialindex_c.a\n",
            "libtool: finish: PATH=\"/usr/local/nvidia/bin:/usr/local/cuda/bin:/usr/local/sbin:/usr/local/bin:/usr/sbin:/usr/bin:/sbin:/bin:/tools/node/bin:/tools/google-cloud-sdk/bin:/opt/bin:/sbin\" ldconfig -n /usr/local/lib\n",
            "----------------------------------------------------------------------\n",
            "Libraries have been installed in:\n",
            "   /usr/local/lib\n",
            "\n",
            "If you ever happen to want to link against installed libraries\n",
            "in a given directory, LIBDIR, you must either use libtool, and\n",
            "specify the full pathname of the library, or use the `-LLIBDIR'\n",
            "flag during linking and do at least one of the following:\n",
            "   - add LIBDIR to the `LD_LIBRARY_PATH' environment variable\n",
            "     during execution\n",
            "   - add LIBDIR to the `LD_RUN_PATH' environment variable\n",
            "     during linking\n",
            "   - use the `-Wl,-rpath -Wl,LIBDIR' linker flag\n",
            "   - have your system administrator add LIBDIR to `/etc/ld.so.conf'\n",
            "\n",
            "See any operating system documentation about shared libraries for\n",
            "more information, such as the ld(1) and ld.so(8) manual pages.\n",
            "----------------------------------------------------------------------\n",
            "make[2]: Nothing to be done for 'install-data-am'.\n",
            "make[2]: Leaving directory '/content/spatialindex-src-1.8.5'\n",
            "make[1]: Leaving directory '/content/spatialindex-src-1.8.5'\n",
            "Making install in test\n",
            "make[1]: Entering directory '/content/spatialindex-src-1.8.5/test'\n",
            "Making install in geometry\n",
            "make[2]: Entering directory '/content/spatialindex-src-1.8.5/test/geometry'\n",
            "make[3]: Entering directory '/content/spatialindex-src-1.8.5/test/geometry'\n",
            "make[3]: Nothing to be done for 'install-exec-am'.\n",
            "make[3]: Nothing to be done for 'install-data-am'.\n",
            "make[3]: Leaving directory '/content/spatialindex-src-1.8.5/test/geometry'\n",
            "make[2]: Leaving directory '/content/spatialindex-src-1.8.5/test/geometry'\n",
            "Making install in rtree\n",
            "make[2]: Entering directory '/content/spatialindex-src-1.8.5/test/rtree'\n",
            "make[3]: Entering directory '/content/spatialindex-src-1.8.5/test/rtree'\n",
            "make[3]: Nothing to be done for 'install-exec-am'.\n",
            "make[3]: Nothing to be done for 'install-data-am'.\n",
            "make[3]: Leaving directory '/content/spatialindex-src-1.8.5/test/rtree'\n",
            "make[2]: Leaving directory '/content/spatialindex-src-1.8.5/test/rtree'\n",
            "Making install in mvrtree\n",
            "make[2]: Entering directory '/content/spatialindex-src-1.8.5/test/mvrtree'\n",
            "make[3]: Entering directory '/content/spatialindex-src-1.8.5/test/mvrtree'\n",
            "make[3]: Nothing to be done for 'install-exec-am'.\n",
            "make[3]: Nothing to be done for 'install-data-am'.\n",
            "make[3]: Leaving directory '/content/spatialindex-src-1.8.5/test/mvrtree'\n",
            "make[2]: Leaving directory '/content/spatialindex-src-1.8.5/test/mvrtree'\n",
            "Making install in tprtree\n",
            "make[2]: Entering directory '/content/spatialindex-src-1.8.5/test/tprtree'\n",
            "make[3]: Entering directory '/content/spatialindex-src-1.8.5/test/tprtree'\n",
            "make[3]: Nothing to be done for 'install-exec-am'.\n",
            "make[3]: Nothing to be done for 'install-data-am'.\n",
            "make[3]: Leaving directory '/content/spatialindex-src-1.8.5/test/tprtree'\n",
            "make[2]: Leaving directory '/content/spatialindex-src-1.8.5/test/tprtree'\n",
            "make[2]: Entering directory '/content/spatialindex-src-1.8.5/test'\n",
            "make[3]: Entering directory '/content/spatialindex-src-1.8.5/test'\n",
            "make[3]: Nothing to be done for 'install-exec-am'.\n",
            "make[3]: Nothing to be done for 'install-data-am'.\n",
            "make[3]: Leaving directory '/content/spatialindex-src-1.8.5/test'\n",
            "make[2]: Leaving directory '/content/spatialindex-src-1.8.5/test'\n",
            "make[1]: Leaving directory '/content/spatialindex-src-1.8.5/test'\n",
            "Making install in include\n",
            "make[1]: Entering directory '/content/spatialindex-src-1.8.5/include'\n",
            "make[2]: Entering directory '/content/spatialindex-src-1.8.5/include'\n",
            "make[2]: Nothing to be done for 'install-exec-am'.\n",
            " /bin/mkdir -p '/usr/local/include'\n",
            " /bin/mkdir -p '/usr/local/include/spatialindex/tools'\n",
            " /usr/bin/install -c -m 644  spatialindex/tools/PointerPool.h spatialindex/tools/PoolPointer.h spatialindex/tools/rand48.h spatialindex/tools/SmartPointer.h spatialindex/tools/Tools.h '/usr/local/include/spatialindex/tools'\n",
            " /bin/mkdir -p '/usr/local/include/spatialindex'\n",
            " /usr/bin/install -c -m 644  spatialindex/SpatialIndex.h spatialindex/RTree.h spatialindex/MVRTree.h spatialindex/TPRTree.h spatialindex/Point.h spatialindex/Region.h spatialindex/LineSegment.h spatialindex/TimePoint.h spatialindex/TimeRegion.h spatialindex/MovingPoint.h spatialindex/MovingRegion.h spatialindex/Version.h '/usr/local/include/spatialindex'\n",
            " /bin/mkdir -p '/usr/local/include/spatialindex/capi'\n",
            " /usr/bin/install -c -m 644  spatialindex/capi/BoundsQuery.h spatialindex/capi/CountVisitor.h spatialindex/capi/CustomStorage.h spatialindex/capi/DataStream.h spatialindex/capi/Error.h spatialindex/capi/IdVisitor.h spatialindex/capi/Index.h spatialindex/capi/LeafQuery.h spatialindex/capi/ObjVisitor.h spatialindex/capi/sidx_api.h spatialindex/capi/sidx_export.h spatialindex/capi/sidx_config.h spatialindex/capi/sidx_impl.h spatialindex/capi/Utility.h '/usr/local/include/spatialindex/capi'\n",
            "make[2]: Leaving directory '/content/spatialindex-src-1.8.5/include'\n",
            "make[1]: Leaving directory '/content/spatialindex-src-1.8.5/include'\n"
          ],
          "name": "stdout"
        }
      ]
    },
    {
      "cell_type": "code",
      "metadata": {
        "id": "tiAmjuGiFtEB",
        "colab_type": "code",
        "outputId": "a2504653-e831-4939-ad1e-05f21ef3c13d",
        "colab": {
          "base_uri": "https://localhost:8080/",
          "height": 72
        }
      },
      "source": [
        "!pip install rtree"
      ],
      "execution_count": 7,
      "outputs": [
        {
          "output_type": "stream",
          "text": [
            "Requirement already satisfied: rtree in /usr/local/lib/python3.6/dist-packages (0.8.3)\n",
            "Requirement already satisfied: setuptools in /usr/local/lib/python3.6/dist-packages (from rtree) (41.2.0)\n"
          ],
          "name": "stdout"
        }
      ]
    },
    {
      "cell_type": "code",
      "metadata": {
        "id": "4hkAY8dGGJAy",
        "colab_type": "code",
        "colab": {}
      },
      "source": [
        "!ldconfig"
      ],
      "execution_count": 0,
      "outputs": []
    },
    {
      "cell_type": "markdown",
      "metadata": {
        "id": "N8G0svfNGUBY",
        "colab_type": "text"
      },
      "source": [
        "Working through the example at http://toblerity.org/rtree/examples.html"
      ]
    },
    {
      "cell_type": "code",
      "metadata": {
        "id": "hY-ohiFCFvzB",
        "colab_type": "code",
        "colab": {}
      },
      "source": [
        "from rtree import index\n",
        "from rtree.index import Rtree"
      ],
      "execution_count": 0,
      "outputs": []
    },
    {
      "cell_type": "code",
      "metadata": {
        "id": "MpCa-nPuGNE_",
        "colab_type": "code",
        "outputId": "077ee381-8d55-43f9-c5b1-689f794bfeda",
        "colab": {
          "base_uri": "https://localhost:8080/",
          "height": 34
        }
      },
      "source": [
        "p = index.Property()\n",
        "idx = index.Index(properties=p)\n",
        "idx"
      ],
      "execution_count": 10,
      "outputs": [
        {
          "output_type": "execute_result",
          "data": {
            "text/plain": [
              "<rtree.index.Index at 0x7f569de147f0>"
            ]
          },
          "metadata": {
            "tags": []
          },
          "execution_count": 10
        }
      ]
    },
    {
      "cell_type": "code",
      "metadata": {
        "id": "HqWzMNKLIHK3",
        "colab_type": "code",
        "outputId": "a94bf9b8-37f2-4c54-c22c-c10a0792396e",
        "colab": {
          "base_uri": "https://localhost:8080/",
          "height": 562
        }
      },
      "source": [
        "pip install -U pysal"
      ],
      "execution_count": 11,
      "outputs": [
        {
          "output_type": "stream",
          "text": [
            "Requirement already up-to-date: pysal in /usr/local/lib/python3.6/dist-packages (2.1.0)\n",
            "Requirement already satisfied, skipping upgrade: geopandas in /usr/local/lib/python3.6/dist-packages (from pysal) (0.6.0)\n",
            "Requirement already satisfied, skipping upgrade: scipy in /usr/local/lib/python3.6/dist-packages (from pysal) (1.3.1)\n",
            "Requirement already satisfied, skipping upgrade: rtree in /usr/local/lib/python3.6/dist-packages (from pysal) (0.8.3)\n",
            "Requirement already satisfied, skipping upgrade: deprecated in /usr/local/lib/python3.6/dist-packages (from pysal) (1.2.6)\n",
            "Requirement already satisfied, skipping upgrade: pandas in /usr/local/lib/python3.6/dist-packages (from pysal) (0.24.2)\n",
            "Requirement already satisfied, skipping upgrade: descartes in /usr/local/lib/python3.6/dist-packages (from pysal) (1.1.0)\n",
            "Requirement already satisfied, skipping upgrade: matplotlib in /usr/local/lib/python3.6/dist-packages (from pysal) (3.0.3)\n",
            "Requirement already satisfied, skipping upgrade: scikit-learn in /usr/local/lib/python3.6/dist-packages (from pysal) (0.21.3)\n",
            "Requirement already satisfied, skipping upgrade: palettable in /usr/local/lib/python3.6/dist-packages (from pysal) (3.2.0)\n",
            "Requirement already satisfied, skipping upgrade: seaborn in /usr/local/lib/python3.6/dist-packages (from pysal) (0.9.0)\n",
            "Requirement already satisfied, skipping upgrade: tqdm in /usr/local/lib/python3.6/dist-packages (from pysal) (4.28.1)\n",
            "Requirement already satisfied, skipping upgrade: shapely in /usr/local/lib/python3.6/dist-packages (from geopandas->pysal) (1.6.4.post2)\n",
            "Requirement already satisfied, skipping upgrade: pyproj in /usr/local/lib/python3.6/dist-packages (from geopandas->pysal) (2.4.0)\n",
            "Requirement already satisfied, skipping upgrade: fiona in /usr/local/lib/python3.6/dist-packages (from geopandas->pysal) (1.8.8)\n",
            "Requirement already satisfied, skipping upgrade: numpy>=1.13.3 in /usr/local/lib/python3.6/dist-packages (from scipy->pysal) (1.16.5)\n",
            "Requirement already satisfied, skipping upgrade: setuptools in /usr/local/lib/python3.6/dist-packages (from rtree->pysal) (41.2.0)\n",
            "Requirement already satisfied, skipping upgrade: wrapt<2,>=1.10 in /usr/local/lib/python3.6/dist-packages (from deprecated->pysal) (1.11.2)\n",
            "Requirement already satisfied, skipping upgrade: pytz>=2011k in /usr/local/lib/python3.6/dist-packages (from pandas->pysal) (2018.9)\n",
            "Requirement already satisfied, skipping upgrade: python-dateutil>=2.5.0 in /usr/local/lib/python3.6/dist-packages (from pandas->pysal) (2.5.3)\n",
            "Requirement already satisfied, skipping upgrade: kiwisolver>=1.0.1 in /usr/local/lib/python3.6/dist-packages (from matplotlib->pysal) (1.1.0)\n",
            "Requirement already satisfied, skipping upgrade: cycler>=0.10 in /usr/local/lib/python3.6/dist-packages (from matplotlib->pysal) (0.10.0)\n",
            "Requirement already satisfied, skipping upgrade: pyparsing!=2.0.4,!=2.1.2,!=2.1.6,>=2.0.1 in /usr/local/lib/python3.6/dist-packages (from matplotlib->pysal) (2.4.2)\n",
            "Requirement already satisfied, skipping upgrade: joblib>=0.11 in /usr/local/lib/python3.6/dist-packages (from scikit-learn->pysal) (0.13.2)\n",
            "Requirement already satisfied, skipping upgrade: cligj>=0.5 in /usr/local/lib/python3.6/dist-packages (from fiona->geopandas->pysal) (0.5.0)\n",
            "Requirement already satisfied, skipping upgrade: munch in /usr/local/lib/python3.6/dist-packages (from fiona->geopandas->pysal) (2.3.2)\n",
            "Requirement already satisfied, skipping upgrade: click<8,>=4.0 in /usr/local/lib/python3.6/dist-packages (from fiona->geopandas->pysal) (7.0)\n",
            "Requirement already satisfied, skipping upgrade: attrs>=17 in /usr/local/lib/python3.6/dist-packages (from fiona->geopandas->pysal) (19.1.0)\n",
            "Requirement already satisfied, skipping upgrade: click-plugins>=1.0 in /usr/local/lib/python3.6/dist-packages (from fiona->geopandas->pysal) (1.1.1)\n",
            "Requirement already satisfied, skipping upgrade: six>=1.7 in /usr/local/lib/python3.6/dist-packages (from fiona->geopandas->pysal) (1.12.0)\n"
          ],
          "name": "stdout"
        }
      ]
    },
    {
      "cell_type": "markdown",
      "metadata": {
        "id": "pszpHLooiBEf",
        "colab_type": "text"
      },
      "source": [
        "# Loading PySAL 2.0"
      ]
    },
    {
      "cell_type": "code",
      "metadata": {
        "id": "jhLuL1BaIHWp",
        "colab_type": "code",
        "colab": {
          "base_uri": "https://localhost:8080/",
          "height": 89
        },
        "outputId": "8a798bdb-ce43-44bf-85f6-304d2fb6f003"
      },
      "source": [
        "from pysal.model import spreg\n",
        "from pysal.lib import weights\n",
        "from pysal.explore import esda\n",
        "from scipy import stats\n",
        "import statsmodels.formula.api as sm\n",
        "import numpy as np\n",
        "import pandas as pd\n",
        "import geopandas\n",
        "import matplotlib.pyplot as plt"
      ],
      "execution_count": 12,
      "outputs": [
        {
          "output_type": "stream",
          "text": [
            "/usr/local/lib/python3.6/dist-packages/pysal/explore/segregation/network/network.py:16: UserWarning: You need pandana and urbanaccess to work with segregation's network module\n",
            "You can install them with  `pip install urbanaccess pandana` or `conda install -c udst pandana urbanaccess`\n",
            "  \"You need pandana and urbanaccess to work with segregation's network module\\n\"\n"
          ],
          "name": "stderr"
        }
      ]
    },
    {
      "cell_type": "markdown",
      "metadata": {
        "id": "xUsPtrf7itav",
        "colab_type": "text"
      },
      "source": [
        "# Austin Properties Listed in AirBnb"
      ]
    },
    {
      "cell_type": "markdown",
      "metadata": {
        "id": "1YaxRC53i16u",
        "colab_type": "text"
      },
      "source": [
        "http://insideairbnb.com/austin/index.html"
      ]
    },
    {
      "cell_type": "code",
      "metadata": {
        "id": "JpcISH_eWoeB",
        "colab_type": "code",
        "colab": {}
      },
      "source": [
        "abb_link = 'https://github.com/VitorKamada/ECO6100/raw/master/Data/Texas/listings.csv.gz'\n",
        "lst = pd.read_csv(abb_link)"
      ],
      "execution_count": 0,
      "outputs": []
    },
    {
      "cell_type": "code",
      "metadata": {
        "id": "w-1_86BYWomH",
        "colab_type": "code",
        "colab": {
          "base_uri": "https://localhost:8080/",
          "height": 678
        },
        "outputId": "d5505d66-18ed-4fa1-bc6f-5279bd1a35b5"
      },
      "source": [
        "lst.head()"
      ],
      "execution_count": 14,
      "outputs": [
        {
          "output_type": "execute_result",
          "data": {
            "text/html": [
              "<div>\n",
              "<style scoped>\n",
              "    .dataframe tbody tr th:only-of-type {\n",
              "        vertical-align: middle;\n",
              "    }\n",
              "\n",
              "    .dataframe tbody tr th {\n",
              "        vertical-align: top;\n",
              "    }\n",
              "\n",
              "    .dataframe thead th {\n",
              "        text-align: right;\n",
              "    }\n",
              "</style>\n",
              "<table border=\"1\" class=\"dataframe\">\n",
              "  <thead>\n",
              "    <tr style=\"text-align: right;\">\n",
              "      <th></th>\n",
              "      <th>id</th>\n",
              "      <th>listing_url</th>\n",
              "      <th>scrape_id</th>\n",
              "      <th>last_scraped</th>\n",
              "      <th>name</th>\n",
              "      <th>summary</th>\n",
              "      <th>space</th>\n",
              "      <th>description</th>\n",
              "      <th>experiences_offered</th>\n",
              "      <th>neighborhood_overview</th>\n",
              "      <th>notes</th>\n",
              "      <th>transit</th>\n",
              "      <th>thumbnail_url</th>\n",
              "      <th>medium_url</th>\n",
              "      <th>picture_url</th>\n",
              "      <th>xl_picture_url</th>\n",
              "      <th>host_id</th>\n",
              "      <th>host_url</th>\n",
              "      <th>host_name</th>\n",
              "      <th>host_since</th>\n",
              "      <th>host_location</th>\n",
              "      <th>host_about</th>\n",
              "      <th>host_response_time</th>\n",
              "      <th>host_response_rate</th>\n",
              "      <th>host_acceptance_rate</th>\n",
              "      <th>host_is_superhost</th>\n",
              "      <th>host_thumbnail_url</th>\n",
              "      <th>host_picture_url</th>\n",
              "      <th>host_neighbourhood</th>\n",
              "      <th>host_listings_count</th>\n",
              "      <th>host_total_listings_count</th>\n",
              "      <th>host_verifications</th>\n",
              "      <th>host_has_profile_pic</th>\n",
              "      <th>host_identity_verified</th>\n",
              "      <th>street</th>\n",
              "      <th>neighbourhood</th>\n",
              "      <th>neighbourhood_cleansed</th>\n",
              "      <th>neighbourhood_group_cleansed</th>\n",
              "      <th>city</th>\n",
              "      <th>state</th>\n",
              "      <th>...</th>\n",
              "      <th>bedrooms</th>\n",
              "      <th>beds</th>\n",
              "      <th>bed_type</th>\n",
              "      <th>amenities</th>\n",
              "      <th>square_feet</th>\n",
              "      <th>price</th>\n",
              "      <th>weekly_price</th>\n",
              "      <th>monthly_price</th>\n",
              "      <th>security_deposit</th>\n",
              "      <th>cleaning_fee</th>\n",
              "      <th>guests_included</th>\n",
              "      <th>extra_people</th>\n",
              "      <th>minimum_nights</th>\n",
              "      <th>maximum_nights</th>\n",
              "      <th>calendar_updated</th>\n",
              "      <th>has_availability</th>\n",
              "      <th>availability_30</th>\n",
              "      <th>availability_60</th>\n",
              "      <th>availability_90</th>\n",
              "      <th>availability_365</th>\n",
              "      <th>calendar_last_scraped</th>\n",
              "      <th>number_of_reviews</th>\n",
              "      <th>first_review</th>\n",
              "      <th>last_review</th>\n",
              "      <th>review_scores_rating</th>\n",
              "      <th>review_scores_accuracy</th>\n",
              "      <th>review_scores_cleanliness</th>\n",
              "      <th>review_scores_checkin</th>\n",
              "      <th>review_scores_communication</th>\n",
              "      <th>review_scores_location</th>\n",
              "      <th>review_scores_value</th>\n",
              "      <th>requires_license</th>\n",
              "      <th>license</th>\n",
              "      <th>jurisdiction_names</th>\n",
              "      <th>instant_bookable</th>\n",
              "      <th>cancellation_policy</th>\n",
              "      <th>require_guest_profile_picture</th>\n",
              "      <th>require_guest_phone_verification</th>\n",
              "      <th>calculated_host_listings_count</th>\n",
              "      <th>reviews_per_month</th>\n",
              "    </tr>\n",
              "  </thead>\n",
              "  <tbody>\n",
              "    <tr>\n",
              "      <th>0</th>\n",
              "      <td>72635</td>\n",
              "      <td>https://www.airbnb.com/rooms/72635</td>\n",
              "      <td>20151107173015</td>\n",
              "      <td>2015-11-08</td>\n",
              "      <td>3 Private Bedrooms, SW Austin</td>\n",
              "      <td>Conveniently located 10-15 from downtown in SW...</td>\n",
              "      <td>We have three spare bedrooms, each with a quee...</td>\n",
              "      <td>Conveniently located 10-15 from downtown in SW...</td>\n",
              "      <td>none</td>\n",
              "      <td>Location and convenience are key.  Easy access...</td>\n",
              "      <td>NaN</td>\n",
              "      <td>Unfortunately there is no convenient public tr...</td>\n",
              "      <td>https://a2.muscache.com/ac/pictures/69586491/a...</td>\n",
              "      <td>https://a2.muscache.com/im/pictures/69586491/a...</td>\n",
              "      <td>https://a2.muscache.com/ac/pictures/69586491/a...</td>\n",
              "      <td>https://a2.muscache.com/ac/pictures/69586491/a...</td>\n",
              "      <td>377044</td>\n",
              "      <td>https://www.airbnb.com/users/show/377044</td>\n",
              "      <td>Jason &amp; Marcie</td>\n",
              "      <td>2011-02-04</td>\n",
              "      <td>Austin, Texas, United States</td>\n",
              "      <td>Private music loving family in SW Austin</td>\n",
              "      <td>NaN</td>\n",
              "      <td>NaN</td>\n",
              "      <td>NaN</td>\n",
              "      <td>f</td>\n",
              "      <td>https://a2.muscache.com/ac/users/377044/profil...</td>\n",
              "      <td>https://a2.muscache.com/ac/users/377044/profil...</td>\n",
              "      <td>Circle C</td>\n",
              "      <td>1.0</td>\n",
              "      <td>1.0</td>\n",
              "      <td>['email', 'facebook', 'linkedin', 'reviews']</td>\n",
              "      <td>t</td>\n",
              "      <td>f</td>\n",
              "      <td>West Slaughter Lane, Austin, TX 78749, United ...</td>\n",
              "      <td>Circle C</td>\n",
              "      <td>78739</td>\n",
              "      <td>NaN</td>\n",
              "      <td>Austin</td>\n",
              "      <td>TX</td>\n",
              "      <td>...</td>\n",
              "      <td>1.0</td>\n",
              "      <td>3.0</td>\n",
              "      <td>Real Bed</td>\n",
              "      <td>{\"Cable TV\",Internet,\"Wireless Internet\",\"Air ...</td>\n",
              "      <td>3600.0</td>\n",
              "      <td>$300.00</td>\n",
              "      <td>NaN</td>\n",
              "      <td>NaN</td>\n",
              "      <td>NaN</td>\n",
              "      <td>NaN</td>\n",
              "      <td>1</td>\n",
              "      <td>$0.00</td>\n",
              "      <td>2</td>\n",
              "      <td>10</td>\n",
              "      <td>8 months ago</td>\n",
              "      <td>t</td>\n",
              "      <td>0</td>\n",
              "      <td>0</td>\n",
              "      <td>0</td>\n",
              "      <td>240</td>\n",
              "      <td>2015-11-07</td>\n",
              "      <td>1</td>\n",
              "      <td>2011-03-21</td>\n",
              "      <td>2011-03-21</td>\n",
              "      <td>100.0</td>\n",
              "      <td>10.0</td>\n",
              "      <td>10.0</td>\n",
              "      <td>10.0</td>\n",
              "      <td>10.0</td>\n",
              "      <td>10.0</td>\n",
              "      <td>10.0</td>\n",
              "      <td>f</td>\n",
              "      <td>NaN</td>\n",
              "      <td>NaN</td>\n",
              "      <td>f</td>\n",
              "      <td>moderate</td>\n",
              "      <td>f</td>\n",
              "      <td>f</td>\n",
              "      <td>1</td>\n",
              "      <td>0.02</td>\n",
              "    </tr>\n",
              "    <tr>\n",
              "      <th>1</th>\n",
              "      <td>5386323</td>\n",
              "      <td>https://www.airbnb.com/rooms/5386323</td>\n",
              "      <td>20151107173015</td>\n",
              "      <td>2015-11-07</td>\n",
              "      <td>Cricket Trailer</td>\n",
              "      <td>Rent this cool concept trailer that has everyt...</td>\n",
              "      <td>Rental arrangements for this trailer allows yo...</td>\n",
              "      <td>Rent this cool concept trailer that has everyt...</td>\n",
              "      <td>none</td>\n",
              "      <td>We're talking about wherever you'd like in the...</td>\n",
              "      <td>NaN</td>\n",
              "      <td>Bike, Bus, Metrorail, etc. you name it we've g...</td>\n",
              "      <td>https://a0.muscache.com/ac/pictures/67298119/7...</td>\n",
              "      <td>https://a0.muscache.com/im/pictures/67298119/7...</td>\n",
              "      <td>https://a0.muscache.com/ac/pictures/67298119/7...</td>\n",
              "      <td>https://a0.muscache.com/ac/pictures/67298119/7...</td>\n",
              "      <td>27922117</td>\n",
              "      <td>https://www.airbnb.com/users/show/27922117</td>\n",
              "      <td>Michael</td>\n",
              "      <td>2015-02-17</td>\n",
              "      <td>Austin, Texas, United States</td>\n",
              "      <td>Family man that loves the great outdoors.</td>\n",
              "      <td>NaN</td>\n",
              "      <td>NaN</td>\n",
              "      <td>NaN</td>\n",
              "      <td>f</td>\n",
              "      <td>https://a1.muscache.com/ac/users/27922117/prof...</td>\n",
              "      <td>https://a1.muscache.com/ac/users/27922117/prof...</td>\n",
              "      <td>Circle C</td>\n",
              "      <td>1.0</td>\n",
              "      <td>1.0</td>\n",
              "      <td>['email', 'phone', 'google', 'kba']</td>\n",
              "      <td>t</td>\n",
              "      <td>t</td>\n",
              "      <td>Seneca Falls Loop, Austin, TX 78739, United St...</td>\n",
              "      <td>Circle C</td>\n",
              "      <td>78739</td>\n",
              "      <td>NaN</td>\n",
              "      <td>Austin</td>\n",
              "      <td>TX</td>\n",
              "      <td>...</td>\n",
              "      <td>1.0</td>\n",
              "      <td>1.0</td>\n",
              "      <td>Futon</td>\n",
              "      <td>{\"Air Conditioning\",Heating,\"Family/Kid Friend...</td>\n",
              "      <td>NaN</td>\n",
              "      <td>$99.00</td>\n",
              "      <td>$600.00</td>\n",
              "      <td>NaN</td>\n",
              "      <td>$1,000.00</td>\n",
              "      <td>$75.00</td>\n",
              "      <td>1</td>\n",
              "      <td>$0.00</td>\n",
              "      <td>3</td>\n",
              "      <td>7</td>\n",
              "      <td>8 months ago</td>\n",
              "      <td>t</td>\n",
              "      <td>29</td>\n",
              "      <td>59</td>\n",
              "      <td>89</td>\n",
              "      <td>364</td>\n",
              "      <td>2015-11-07</td>\n",
              "      <td>0</td>\n",
              "      <td>NaN</td>\n",
              "      <td>NaN</td>\n",
              "      <td>NaN</td>\n",
              "      <td>NaN</td>\n",
              "      <td>NaN</td>\n",
              "      <td>NaN</td>\n",
              "      <td>NaN</td>\n",
              "      <td>NaN</td>\n",
              "      <td>NaN</td>\n",
              "      <td>f</td>\n",
              "      <td>NaN</td>\n",
              "      <td>NaN</td>\n",
              "      <td>f</td>\n",
              "      <td>moderate</td>\n",
              "      <td>f</td>\n",
              "      <td>f</td>\n",
              "      <td>1</td>\n",
              "      <td>NaN</td>\n",
              "    </tr>\n",
              "    <tr>\n",
              "      <th>2</th>\n",
              "      <td>8826517</td>\n",
              "      <td>https://www.airbnb.com/rooms/8826517</td>\n",
              "      <td>20151107173015</td>\n",
              "      <td>2015-11-07</td>\n",
              "      <td>Private room 1 in South Austin</td>\n",
              "      <td>Upstairs, private, 12ft x 13 1/2ft room.  Priv...</td>\n",
              "      <td>NaN</td>\n",
              "      <td>Upstairs, private, 12ft x 13 1/2ft room.  Priv...</td>\n",
              "      <td>none</td>\n",
              "      <td>NaN</td>\n",
              "      <td>NaN</td>\n",
              "      <td>NaN</td>\n",
              "      <td>https://a0.muscache.com/ac/pictures/111684503/...</td>\n",
              "      <td>https://a0.muscache.com/im/pictures/111684503/...</td>\n",
              "      <td>https://a0.muscache.com/ac/pictures/111684503/...</td>\n",
              "      <td>https://a0.muscache.com/ac/pictures/111684503/...</td>\n",
              "      <td>46230038</td>\n",
              "      <td>https://www.airbnb.com/users/show/46230038</td>\n",
              "      <td>Ric</td>\n",
              "      <td>2015-10-10</td>\n",
              "      <td>Austin, Texas, United States</td>\n",
              "      <td>My wife Michele and I are recent \"empty nester...</td>\n",
              "      <td>NaN</td>\n",
              "      <td>NaN</td>\n",
              "      <td>NaN</td>\n",
              "      <td>f</td>\n",
              "      <td>https://a0.muscache.com/ac/users/46230038/prof...</td>\n",
              "      <td>https://a0.muscache.com/ac/users/46230038/prof...</td>\n",
              "      <td>NaN</td>\n",
              "      <td>2.0</td>\n",
              "      <td>2.0</td>\n",
              "      <td>['email', 'phone', 'linkedin', 'jumio']</td>\n",
              "      <td>t</td>\n",
              "      <td>t</td>\n",
              "      <td>Mordor Cove, Austin, TX 78739, United States</td>\n",
              "      <td>NaN</td>\n",
              "      <td>78739</td>\n",
              "      <td>NaN</td>\n",
              "      <td>Austin</td>\n",
              "      <td>TX</td>\n",
              "      <td>...</td>\n",
              "      <td>1.0</td>\n",
              "      <td>1.0</td>\n",
              "      <td>Real Bed</td>\n",
              "      <td>{TV,\"Cable TV\",Internet,\"Wireless Internet\",\"A...</td>\n",
              "      <td>NaN</td>\n",
              "      <td>$100.00</td>\n",
              "      <td>NaN</td>\n",
              "      <td>NaN</td>\n",
              "      <td>NaN</td>\n",
              "      <td>NaN</td>\n",
              "      <td>1</td>\n",
              "      <td>$0.00</td>\n",
              "      <td>1</td>\n",
              "      <td>1125</td>\n",
              "      <td>4 weeks ago</td>\n",
              "      <td>t</td>\n",
              "      <td>30</td>\n",
              "      <td>60</td>\n",
              "      <td>90</td>\n",
              "      <td>365</td>\n",
              "      <td>2015-11-07</td>\n",
              "      <td>0</td>\n",
              "      <td>NaN</td>\n",
              "      <td>NaN</td>\n",
              "      <td>NaN</td>\n",
              "      <td>NaN</td>\n",
              "      <td>NaN</td>\n",
              "      <td>NaN</td>\n",
              "      <td>NaN</td>\n",
              "      <td>NaN</td>\n",
              "      <td>NaN</td>\n",
              "      <td>f</td>\n",
              "      <td>NaN</td>\n",
              "      <td>NaN</td>\n",
              "      <td>f</td>\n",
              "      <td>flexible</td>\n",
              "      <td>f</td>\n",
              "      <td>f</td>\n",
              "      <td>2</td>\n",
              "      <td>NaN</td>\n",
              "    </tr>\n",
              "    <tr>\n",
              "      <th>3</th>\n",
              "      <td>8828616</td>\n",
              "      <td>https://www.airbnb.com/rooms/8828616</td>\n",
              "      <td>20151107173015</td>\n",
              "      <td>2015-11-08</td>\n",
              "      <td>Private room 2 in South Austin</td>\n",
              "      <td>Upstairs, private, 11ft x 13 1/2ft room.  Priv...</td>\n",
              "      <td>NaN</td>\n",
              "      <td>Upstairs, private, 11ft x 13 1/2ft room.  Priv...</td>\n",
              "      <td>none</td>\n",
              "      <td>NaN</td>\n",
              "      <td>NaN</td>\n",
              "      <td>NaN</td>\n",
              "      <td>https://a2.muscache.com/ac/pictures/111701148/...</td>\n",
              "      <td>https://a2.muscache.com/im/pictures/111701148/...</td>\n",
              "      <td>https://a2.muscache.com/ac/pictures/111701148/...</td>\n",
              "      <td>https://a2.muscache.com/ac/pictures/111701148/...</td>\n",
              "      <td>46230038</td>\n",
              "      <td>https://www.airbnb.com/users/show/46230038</td>\n",
              "      <td>Ric</td>\n",
              "      <td>2015-10-10</td>\n",
              "      <td>Austin, Texas, United States</td>\n",
              "      <td>My wife Michele and I are recent \"empty nester...</td>\n",
              "      <td>NaN</td>\n",
              "      <td>NaN</td>\n",
              "      <td>NaN</td>\n",
              "      <td>f</td>\n",
              "      <td>https://a0.muscache.com/ac/users/46230038/prof...</td>\n",
              "      <td>https://a0.muscache.com/ac/users/46230038/prof...</td>\n",
              "      <td>NaN</td>\n",
              "      <td>2.0</td>\n",
              "      <td>2.0</td>\n",
              "      <td>['email', 'phone', 'linkedin', 'jumio']</td>\n",
              "      <td>t</td>\n",
              "      <td>t</td>\n",
              "      <td>Mordor Cove, Austin, TX 78739, United States</td>\n",
              "      <td>NaN</td>\n",
              "      <td>78739</td>\n",
              "      <td>NaN</td>\n",
              "      <td>Austin</td>\n",
              "      <td>TX</td>\n",
              "      <td>...</td>\n",
              "      <td>1.0</td>\n",
              "      <td>1.0</td>\n",
              "      <td>Real Bed</td>\n",
              "      <td>{TV,\"Cable TV\",Internet,\"Wireless Internet\",\"A...</td>\n",
              "      <td>NaN</td>\n",
              "      <td>$100.00</td>\n",
              "      <td>NaN</td>\n",
              "      <td>NaN</td>\n",
              "      <td>NaN</td>\n",
              "      <td>NaN</td>\n",
              "      <td>1</td>\n",
              "      <td>$0.00</td>\n",
              "      <td>1</td>\n",
              "      <td>1125</td>\n",
              "      <td>4 weeks ago</td>\n",
              "      <td>t</td>\n",
              "      <td>30</td>\n",
              "      <td>60</td>\n",
              "      <td>90</td>\n",
              "      <td>365</td>\n",
              "      <td>2015-11-07</td>\n",
              "      <td>0</td>\n",
              "      <td>NaN</td>\n",
              "      <td>NaN</td>\n",
              "      <td>NaN</td>\n",
              "      <td>NaN</td>\n",
              "      <td>NaN</td>\n",
              "      <td>NaN</td>\n",
              "      <td>NaN</td>\n",
              "      <td>NaN</td>\n",
              "      <td>NaN</td>\n",
              "      <td>f</td>\n",
              "      <td>NaN</td>\n",
              "      <td>NaN</td>\n",
              "      <td>f</td>\n",
              "      <td>flexible</td>\n",
              "      <td>f</td>\n",
              "      <td>f</td>\n",
              "      <td>2</td>\n",
              "      <td>NaN</td>\n",
              "    </tr>\n",
              "    <tr>\n",
              "      <th>4</th>\n",
              "      <td>8536913</td>\n",
              "      <td>https://www.airbnb.com/rooms/8536913</td>\n",
              "      <td>20151107173015</td>\n",
              "      <td>2015-11-08</td>\n",
              "      <td>Brand-New 3BR Austin Home</td>\n",
              "      <td>Brand-new 3BR/2BA Austin home with landscaped ...</td>\n",
              "      <td>Feel instantly at home at our brand new 3BR/2B...</td>\n",
              "      <td>Brand-new 3BR/2BA Austin home with landscaped ...</td>\n",
              "      <td>none</td>\n",
              "      <td>Entertainment and activities are plentiful her...</td>\n",
              "      <td>NaN</td>\n",
              "      <td>NaN</td>\n",
              "      <td>https://a1.muscache.com/ac/pictures/108481794/...</td>\n",
              "      <td>https://a1.muscache.com/im/pictures/108481794/...</td>\n",
              "      <td>https://a1.muscache.com/ac/pictures/108481794/...</td>\n",
              "      <td>https://a1.muscache.com/ac/pictures/108481794/...</td>\n",
              "      <td>31148752</td>\n",
              "      <td>https://www.airbnb.com/users/show/31148752</td>\n",
              "      <td>Bo</td>\n",
              "      <td>2015-04-13</td>\n",
              "      <td>US</td>\n",
              "      <td>NaN</td>\n",
              "      <td>within a few hours</td>\n",
              "      <td>98%</td>\n",
              "      <td>81%</td>\n",
              "      <td>f</td>\n",
              "      <td>https://a2.muscache.com/ac/users/31148752/prof...</td>\n",
              "      <td>https://a2.muscache.com/ac/users/31148752/prof...</td>\n",
              "      <td>Holly</td>\n",
              "      <td>301.0</td>\n",
              "      <td>301.0</td>\n",
              "      <td>['email', 'phone', 'linkedin', 'reviews', 'jum...</td>\n",
              "      <td>t</td>\n",
              "      <td>t</td>\n",
              "      <td>Allamanda Drive, Austin, TX 78739, United States</td>\n",
              "      <td>NaN</td>\n",
              "      <td>78739</td>\n",
              "      <td>NaN</td>\n",
              "      <td>Austin</td>\n",
              "      <td>TX</td>\n",
              "      <td>...</td>\n",
              "      <td>3.0</td>\n",
              "      <td>3.0</td>\n",
              "      <td>Real Bed</td>\n",
              "      <td>{TV,\"Cable TV\",Internet,\"Wireless Internet\",\"A...</td>\n",
              "      <td>NaN</td>\n",
              "      <td>$599.00</td>\n",
              "      <td>NaN</td>\n",
              "      <td>NaN</td>\n",
              "      <td>NaN</td>\n",
              "      <td>$125.00</td>\n",
              "      <td>1</td>\n",
              "      <td>$0.00</td>\n",
              "      <td>2</td>\n",
              "      <td>1125</td>\n",
              "      <td>today</td>\n",
              "      <td>t</td>\n",
              "      <td>27</td>\n",
              "      <td>57</td>\n",
              "      <td>87</td>\n",
              "      <td>358</td>\n",
              "      <td>2015-11-07</td>\n",
              "      <td>0</td>\n",
              "      <td>NaN</td>\n",
              "      <td>NaN</td>\n",
              "      <td>NaN</td>\n",
              "      <td>NaN</td>\n",
              "      <td>NaN</td>\n",
              "      <td>NaN</td>\n",
              "      <td>NaN</td>\n",
              "      <td>NaN</td>\n",
              "      <td>NaN</td>\n",
              "      <td>f</td>\n",
              "      <td>NaN</td>\n",
              "      <td>NaN</td>\n",
              "      <td>f</td>\n",
              "      <td>strict</td>\n",
              "      <td>f</td>\n",
              "      <td>f</td>\n",
              "      <td>2</td>\n",
              "      <td>NaN</td>\n",
              "    </tr>\n",
              "  </tbody>\n",
              "</table>\n",
              "<p>5 rows × 92 columns</p>\n",
              "</div>"
            ],
            "text/plain": [
              "        id  ... reviews_per_month\n",
              "0    72635  ...              0.02\n",
              "1  5386323  ...               NaN\n",
              "2  8826517  ...               NaN\n",
              "3  8828616  ...               NaN\n",
              "4  8536913  ...               NaN\n",
              "\n",
              "[5 rows x 92 columns]"
            ]
          },
          "metadata": {
            "tags": []
          },
          "execution_count": 14
        }
      ]
    },
    {
      "cell_type": "code",
      "metadata": {
        "id": "5_s3E-bDWopS",
        "colab_type": "code",
        "colab": {}
      },
      "source": [
        "x = ['host_listings_count', 'bathrooms', \n",
        "     'bedrooms', 'beds', 'guests_included']"
      ],
      "execution_count": 0,
      "outputs": []
    },
    {
      "cell_type": "code",
      "metadata": {
        "id": "VpsG6Ns7WosS",
        "colab_type": "code",
        "colab": {}
      },
      "source": [
        "def has_pool(a):\n",
        "    if 'Pool' in a:\n",
        "        return 1\n",
        "    else:\n",
        "        return 0"
      ],
      "execution_count": 0,
      "outputs": []
    },
    {
      "cell_type": "code",
      "metadata": {
        "id": "5SSVnMFlXYEt",
        "colab_type": "code",
        "colab": {}
      },
      "source": [
        "lst['pool'] = lst['amenities'].apply(has_pool)\n"
      ],
      "execution_count": 0,
      "outputs": []
    },
    {
      "cell_type": "code",
      "metadata": {
        "id": "ud4WGpDvXYMZ",
        "colab_type": "code",
        "colab": {}
      },
      "source": [
        "yxs = lst.loc[:, x + ['pool', 'price']].dropna()\n",
        "y = np.log(yxs['price'].apply(lambda x: \n",
        "      float(x.strip('$').replace(',', '')))\n",
        "      + 0.000001)"
      ],
      "execution_count": 0,
      "outputs": []
    },
    {
      "cell_type": "code",
      "metadata": {
        "id": "BiYVuxASXYPZ",
        "colab_type": "code",
        "colab": {
          "base_uri": "https://localhost:8080/",
          "height": 72
        },
        "outputId": "f16fbd17-c7a2-4bdd-d536-e81e0815d85c"
      },
      "source": [
        "w = weights.KNN.from_array(lst.loc[yxs.index, \n",
        "       ['longitude', 'latitude']].values)\n",
        "w.transform = 'R'"
      ],
      "execution_count": 19,
      "outputs": [
        {
          "output_type": "stream",
          "text": [
            "/usr/local/lib/python3.6/dist-packages/pysal/lib/weights/weights.py:170: UserWarning: The weights matrix is not fully connected. There are 360 components\n",
            "  warnings.warn(\"The weights matrix is not fully connected. There are %d components\" % self.n_components)\n"
          ],
          "name": "stderr"
        }
      ]
    },
    {
      "cell_type": "code",
      "metadata": {
        "id": "4ZUbqSQNXYSH",
        "colab_type": "code",
        "colab": {
          "base_uri": "https://localhost:8080/",
          "height": 34
        },
        "outputId": "e2d2f626-98d8-427d-bed9-33cfe3f164e7"
      },
      "source": [
        "w"
      ],
      "execution_count": 20,
      "outputs": [
        {
          "output_type": "execute_result",
          "data": {
            "text/plain": [
              "<pysal.lib.weights.distance.KNN at 0x7f56815fff60>"
            ]
          },
          "metadata": {
            "tags": []
          },
          "execution_count": 20
        }
      ]
    },
    {
      "cell_type": "code",
      "metadata": {
        "id": "ETeybRkKXYXg",
        "colab_type": "code",
        "colab": {
          "base_uri": "https://localhost:8080/",
          "height": 909
        },
        "outputId": "cd25d288-1c5f-47c1-fa87-e93c36cbe416"
      },
      "source": [
        "m1 = spreg.OLS(y.values[:, None], \n",
        "        yxs.drop('price', axis=1).values, \n",
        "        w=w, spat_diag=True, \n",
        "                name_x=yxs.drop('price',\n",
        "                axis=1).columns.tolist(), \n",
        "                 name_y='ln(price)')\n",
        "print(m1.summary)"
      ],
      "execution_count": 21,
      "outputs": [
        {
          "output_type": "stream",
          "text": [
            "REGRESSION\n",
            "----------\n",
            "SUMMARY OF OUTPUT: ORDINARY LEAST SQUARES\n",
            "-----------------------------------------\n",
            "Data set            :     unknown\n",
            "Weights matrix      :     unknown\n",
            "Dependent Variable  :   ln(price)                Number of Observations:        5767\n",
            "Mean dependent var  :      5.1952                Number of Variables   :           7\n",
            "S.D. dependent var  :      0.9455                Degrees of Freedom    :        5760\n",
            "R-squared           :      0.4042\n",
            "Adjusted R-squared  :      0.4036\n",
            "Sum squared residual:    3071.189                F-statistic           :    651.3958\n",
            "Sigma-square        :       0.533                Prob(F-statistic)     :           0\n",
            "S.E. of regression  :       0.730                Log likelihood        :   -6366.162\n",
            "Sigma-square ML     :       0.533                Akaike info criterion :   12746.325\n",
            "S.E of regression ML:      0.7298                Schwarz criterion     :   12792.944\n",
            "\n",
            "------------------------------------------------------------------------------------\n",
            "            Variable     Coefficient       Std.Error     t-Statistic     Probability\n",
            "------------------------------------------------------------------------------------\n",
            "            CONSTANT       4.0976886       0.0223530     183.3171506       0.0000000\n",
            " host_listings_count      -0.0000130       0.0001790      -0.0726772       0.9420655\n",
            "           bathrooms       0.2947079       0.0194817      15.1273879       0.0000000\n",
            "            bedrooms       0.3274226       0.0159666      20.5067654       0.0000000\n",
            "                beds       0.0245741       0.0097379       2.5235601       0.0116440\n",
            "     guests_included       0.0075119       0.0060551       1.2406028       0.2148030\n",
            "                pool       0.0888039       0.0221903       4.0019209       0.0000636\n",
            "------------------------------------------------------------------------------------\n",
            "\n",
            "REGRESSION DIAGNOSTICS\n",
            "MULTICOLLINEARITY CONDITION NUMBER            9.260\n",
            "\n",
            "TEST ON NORMALITY OF ERRORS\n",
            "TEST                             DF        VALUE           PROB\n",
            "Jarque-Bera                       2     1358479.047           0.0000\n",
            "\n",
            "DIAGNOSTICS FOR HETEROSKEDASTICITY\n",
            "RANDOM COEFFICIENTS\n",
            "TEST                             DF        VALUE           PROB\n",
            "Breusch-Pagan test                6        1414.297           0.0000\n",
            "Koenker-Bassett test              6          36.756           0.0000\n",
            "\n",
            "DIAGNOSTICS FOR SPATIAL DEPENDENCE\n",
            "TEST                           MI/DF       VALUE           PROB\n",
            "Lagrange Multiplier (lag)         1         255.796           0.0000\n",
            "Robust LM (lag)                   1          13.039           0.0003\n",
            "Lagrange Multiplier (error)       1         278.752           0.0000\n",
            "Robust LM (error)                 1          35.995           0.0000\n",
            "Lagrange Multiplier (SARMA)       2         291.791           0.0000\n",
            "\n",
            "================================ END OF REPORT =====================================\n"
          ],
          "name": "stdout"
        }
      ]
    },
    {
      "cell_type": "code",
      "metadata": {
        "id": "CLZiHERQXYaZ",
        "colab_type": "code",
        "colab": {
          "base_uri": "https://localhost:8080/",
          "height": 72
        },
        "outputId": "ecde562f-7b1e-41e4-a67a-73225f5aa9ca"
      },
      "source": [
        "w_pool = weights.KNN.from_array(lst.loc[yxs.index, \n",
        "                    ['longitude', 'latitude']].values)"
      ],
      "execution_count": 22,
      "outputs": [
        {
          "output_type": "stream",
          "text": [
            "/usr/local/lib/python3.6/dist-packages/pysal/lib/weights/weights.py:170: UserWarning: The weights matrix is not fully connected. There are 360 components\n",
            "  warnings.warn(\"The weights matrix is not fully connected. There are %d components\" % self.n_components)\n"
          ],
          "name": "stderr"
        }
      ]
    },
    {
      "cell_type": "code",
      "metadata": {
        "id": "D4Q0T_DjXYdH",
        "colab_type": "code",
        "colab": {}
      },
      "source": [
        "yxs_w = yxs.assign(w_pool=weights.lag_spatial(w_pool,\n",
        "                                  yxs['pool'].values))\n"
      ],
      "execution_count": 0,
      "outputs": []
    },
    {
      "cell_type": "code",
      "metadata": {
        "id": "AB2zcobWXYV4",
        "colab_type": "code",
        "colab": {
          "base_uri": "https://localhost:8080/",
          "height": 927
        },
        "outputId": "94c2c5c6-3b8a-4272-e9bb-9d0cdc5cd7df"
      },
      "source": [
        "m2 = spreg.OLS(y.values[:, None], \n",
        "        yxs_w.drop('price', axis=1).values, \n",
        "  w=w, spat_diag=True, \n",
        "  name_x=yxs_w.drop('price', axis=1).columns.tolist(), \n",
        "  name_y='ln(price)')\n",
        "\n",
        "print(m2.summary)"
      ],
      "execution_count": 24,
      "outputs": [
        {
          "output_type": "stream",
          "text": [
            "REGRESSION\n",
            "----------\n",
            "SUMMARY OF OUTPUT: ORDINARY LEAST SQUARES\n",
            "-----------------------------------------\n",
            "Data set            :     unknown\n",
            "Weights matrix      :     unknown\n",
            "Dependent Variable  :   ln(price)                Number of Observations:        5767\n",
            "Mean dependent var  :      5.1952                Number of Variables   :           8\n",
            "S.D. dependent var  :      0.9455                Degrees of Freedom    :        5759\n",
            "R-squared           :      0.4044\n",
            "Adjusted R-squared  :      0.4037\n",
            "Sum squared residual:    3070.363                F-statistic           :    558.6139\n",
            "Sigma-square        :       0.533                Prob(F-statistic)     :           0\n",
            "S.E. of regression  :       0.730                Log likelihood        :   -6365.387\n",
            "Sigma-square ML     :       0.532                Akaike info criterion :   12746.773\n",
            "S.E of regression ML:      0.7297                Schwarz criterion     :   12800.053\n",
            "\n",
            "------------------------------------------------------------------------------------\n",
            "            Variable     Coefficient       Std.Error     t-Statistic     Probability\n",
            "------------------------------------------------------------------------------------\n",
            "            CONSTANT       4.0906444       0.0230571     177.4134022       0.0000000\n",
            " host_listings_count      -0.0000108       0.0001790      -0.0603617       0.9518697\n",
            "           bathrooms       0.2948787       0.0194813      15.1365024       0.0000000\n",
            "            bedrooms       0.3277450       0.0159679      20.5252404       0.0000000\n",
            "                beds       0.0246650       0.0097377       2.5329419       0.0113373\n",
            "     guests_included       0.0076894       0.0060564       1.2696250       0.2042695\n",
            "                pool       0.0725756       0.0257356       2.8200486       0.0048181\n",
            "              w_pool       0.0188875       0.0151729       1.2448141       0.2132508\n",
            "------------------------------------------------------------------------------------\n",
            "\n",
            "REGRESSION DIAGNOSTICS\n",
            "MULTICOLLINEARITY CONDITION NUMBER            9.605\n",
            "\n",
            "TEST ON NORMALITY OF ERRORS\n",
            "TEST                             DF        VALUE           PROB\n",
            "Jarque-Bera                       2     1368880.320           0.0000\n",
            "\n",
            "DIAGNOSTICS FOR HETEROSKEDASTICITY\n",
            "RANDOM COEFFICIENTS\n",
            "TEST                             DF        VALUE           PROB\n",
            "Breusch-Pagan test                7        1565.566           0.0000\n",
            "Koenker-Bassett test              7          40.537           0.0000\n",
            "\n",
            "DIAGNOSTICS FOR SPATIAL DEPENDENCE\n",
            "TEST                           MI/DF       VALUE           PROB\n",
            "Lagrange Multiplier (lag)         1         255.124           0.0000\n",
            "Robust LM (lag)                   1          13.448           0.0002\n",
            "Lagrange Multiplier (error)       1         276.862           0.0000\n",
            "Robust LM (error)                 1          35.187           0.0000\n",
            "Lagrange Multiplier (SARMA)       2         290.310           0.0000\n",
            "\n",
            "================================ END OF REPORT =====================================\n"
          ],
          "name": "stdout"
        }
      ]
    },
    {
      "cell_type": "code",
      "metadata": {
        "id": "iNu1-X23bgzn",
        "colab_type": "code",
        "colab": {
          "base_uri": "https://localhost:8080/",
          "height": 577
        },
        "outputId": "6cd88843-1bf8-474d-9106-355390a7d9bc"
      },
      "source": [
        "m3 = spreg.GM_Lag(y.values[:, None], \n",
        "   yxs.drop('price', axis=1).values, \n",
        "   w=w, spat_diag=True, \n",
        "   name_x=yxs.drop('price', \n",
        "            axis=1).columns.tolist(), \n",
        "   name_y='ln(price)')\n",
        "\n",
        "print(m3.summary)"
      ],
      "execution_count": 25,
      "outputs": [
        {
          "output_type": "stream",
          "text": [
            "REGRESSION\n",
            "----------\n",
            "SUMMARY OF OUTPUT: SPATIAL TWO STAGE LEAST SQUARES\n",
            "--------------------------------------------------\n",
            "Data set            :     unknown\n",
            "Weights matrix      :     unknown\n",
            "Dependent Variable  :   ln(price)                Number of Observations:        5767\n",
            "Mean dependent var  :      5.1952                Number of Variables   :           8\n",
            "S.D. dependent var  :      0.9455                Degrees of Freedom    :        5759\n",
            "Pseudo R-squared    :      0.4224\n",
            "Spatial Pseudo R-squared:  0.4056\n",
            "\n",
            "------------------------------------------------------------------------------------\n",
            "            Variable     Coefficient       Std.Error     z-Statistic     Probability\n",
            "------------------------------------------------------------------------------------\n",
            "            CONSTANT       3.7085715       0.1075621      34.4784213       0.0000000\n",
            " host_listings_count      -0.0000587       0.0001765      -0.3324585       0.7395430\n",
            "           bathrooms       0.2857932       0.0193237      14.7897969       0.0000000\n",
            "            bedrooms       0.3272598       0.0157132      20.8270544       0.0000000\n",
            "                beds       0.0239548       0.0095848       2.4992528       0.0124455\n",
            "     guests_included       0.0065147       0.0059651       1.0921407       0.2747713\n",
            "                pool       0.0891100       0.0218383       4.0804521       0.0000449\n",
            "         W_ln(price)       0.0785059       0.0212424       3.6957202       0.0002193\n",
            "------------------------------------------------------------------------------------\n",
            "Instrumented: W_ln(price)\n",
            "Instruments: W_bathrooms, W_bedrooms, W_beds, W_guests_included,\n",
            "             W_host_listings_count, W_pool\n",
            "\n",
            "DIAGNOSTICS FOR SPATIAL DEPENDENCE\n",
            "TEST                           MI/DF       VALUE           PROB\n",
            "Anselin-Kelejian Test             1          31.545          0.0000\n",
            "================================ END OF REPORT =====================================\n"
          ],
          "name": "stdout"
        }
      ]
    },
    {
      "cell_type": "code",
      "metadata": {
        "id": "io6FRMLNbg2l",
        "colab_type": "code",
        "colab": {
          "base_uri": "https://localhost:8080/",
          "height": 139
        },
        "outputId": "0eb13169-9695-459f-d09b-fe6137425493"
      },
      "source": [
        "b = m3.betas[:-1]\n",
        "b"
      ],
      "execution_count": 26,
      "outputs": [
        {
          "output_type": "execute_result",
          "data": {
            "text/plain": [
              "array([[ 3.70857151e+00],\n",
              "       [-5.86948398e-05],\n",
              "       [ 2.85793233e-01],\n",
              "       [ 3.27259811e-01],\n",
              "       [ 2.39548235e-02],\n",
              "       [ 6.51467596e-03],\n",
              "       [ 8.91100274e-02]])"
            ]
          },
          "metadata": {
            "tags": []
          },
          "execution_count": 26
        }
      ]
    },
    {
      "cell_type": "code",
      "metadata": {
        "id": "pHdLMLU3bg5w",
        "colab_type": "code",
        "colab": {
          "base_uri": "https://localhost:8080/",
          "height": 34
        },
        "outputId": "9a02fea3-a7f8-4cea-e47d-534e9cbf815e"
      },
      "source": [
        "rho = m3.betas[-1]\n",
        "rho"
      ],
      "execution_count": 27,
      "outputs": [
        {
          "output_type": "execute_result",
          "data": {
            "text/plain": [
              "array([0.07850592])"
            ]
          },
          "metadata": {
            "tags": []
          },
          "execution_count": 27
        }
      ]
    },
    {
      "cell_type": "code",
      "metadata": {
        "id": "I1tZ8RUkbhCJ",
        "colab_type": "code",
        "colab": {}
      },
      "source": [
        "btot = b / (1.0 - rho) #total impact\n",
        "bind = btot - b #indirect impact"
      ],
      "execution_count": 0,
      "outputs": []
    },
    {
      "cell_type": "code",
      "metadata": {
        "id": "UzW2KYkMbhFO",
        "colab_type": "code",
        "colab": {
          "base_uri": "https://localhost:8080/",
          "height": 157
        },
        "outputId": "1e573945-d96c-477d-c6dd-9231f6c7237b"
      },
      "source": [
        "x_names = ['NROOM','NBATH','PATIO','FIREPL','AC','GAR','AGE',\n",
        "           'LOTSZ','SQFT']\n",
        "varnames = [\"CONSTANT\"] + x + [\"pool\"]\n",
        "print(\"            Variable       Direct       Indirect  \\\n",
        "    Total\" )\n",
        "for i in range(len(varnames)):\n",
        "    print(\"%20s %12.3f %12.3f %12.3f\" % (varnames[i],b[i][0],\n",
        "                                bind[i][0],btot[i][0]))\n"
      ],
      "execution_count": 29,
      "outputs": [
        {
          "output_type": "stream",
          "text": [
            "            Variable       Direct       Indirect      Total\n",
            "            CONSTANT        3.709        0.316        4.025\n",
            " host_listings_count       -0.000       -0.000       -0.000\n",
            "           bathrooms        0.286        0.024        0.310\n",
            "            bedrooms        0.327        0.028        0.355\n",
            "                beds        0.024        0.002        0.026\n",
            "     guests_included        0.007        0.001        0.007\n",
            "                pool        0.089        0.008        0.097\n"
          ],
          "name": "stdout"
        }
      ]
    }
  ]
}