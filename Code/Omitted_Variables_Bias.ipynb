{
  "nbformat": 4,
  "nbformat_minor": 0,
  "metadata": {
    "colab": {
      "name": "Omitted Variables Bias.ipynb",
      "version": "0.3.2",
      "provenance": []
    },
    "kernelspec": {
      "name": "python3",
      "display_name": "Python 3"
    }
  },
  "cells": [
    {
      "cell_type": "code",
      "metadata": {
        "id": "cmHxn_9K-qyQ",
        "colab_type": "code",
        "colab": {
          "base_uri": "https://localhost:8080/",
          "height": 204
        },
        "outputId": "d413245d-82cb-4454-81e5-a3c41ff7faf0"
      },
      "source": [
        "import pandas as pd\n",
        "file = \"https://github.com/VitorKamada/ECO6100/raw/master/Data/WAGE2.DTA\" \n",
        "df = pd.read_stata(file)\n",
        "df.head()"
      ],
      "execution_count": 1,
      "outputs": [
        {
          "output_type": "execute_result",
          "data": {
            "text/html": [
              "<div>\n",
              "<style scoped>\n",
              "    .dataframe tbody tr th:only-of-type {\n",
              "        vertical-align: middle;\n",
              "    }\n",
              "\n",
              "    .dataframe tbody tr th {\n",
              "        vertical-align: top;\n",
              "    }\n",
              "\n",
              "    .dataframe thead th {\n",
              "        text-align: right;\n",
              "    }\n",
              "</style>\n",
              "<table border=\"1\" class=\"dataframe\">\n",
              "  <thead>\n",
              "    <tr style=\"text-align: right;\">\n",
              "      <th></th>\n",
              "      <th>wage</th>\n",
              "      <th>hours</th>\n",
              "      <th>IQ</th>\n",
              "      <th>KWW</th>\n",
              "      <th>educ</th>\n",
              "      <th>exper</th>\n",
              "      <th>tenure</th>\n",
              "      <th>age</th>\n",
              "      <th>married</th>\n",
              "      <th>black</th>\n",
              "      <th>south</th>\n",
              "      <th>urban</th>\n",
              "      <th>sibs</th>\n",
              "      <th>brthord</th>\n",
              "      <th>meduc</th>\n",
              "      <th>feduc</th>\n",
              "      <th>lwage</th>\n",
              "    </tr>\n",
              "  </thead>\n",
              "  <tbody>\n",
              "    <tr>\n",
              "      <th>0</th>\n",
              "      <td>769</td>\n",
              "      <td>40</td>\n",
              "      <td>93</td>\n",
              "      <td>35</td>\n",
              "      <td>12</td>\n",
              "      <td>11</td>\n",
              "      <td>2</td>\n",
              "      <td>31</td>\n",
              "      <td>1</td>\n",
              "      <td>0</td>\n",
              "      <td>0</td>\n",
              "      <td>1</td>\n",
              "      <td>1</td>\n",
              "      <td>2.0</td>\n",
              "      <td>8.0</td>\n",
              "      <td>8.0</td>\n",
              "      <td>6.645091</td>\n",
              "    </tr>\n",
              "    <tr>\n",
              "      <th>1</th>\n",
              "      <td>808</td>\n",
              "      <td>50</td>\n",
              "      <td>119</td>\n",
              "      <td>41</td>\n",
              "      <td>18</td>\n",
              "      <td>11</td>\n",
              "      <td>16</td>\n",
              "      <td>37</td>\n",
              "      <td>1</td>\n",
              "      <td>0</td>\n",
              "      <td>0</td>\n",
              "      <td>1</td>\n",
              "      <td>1</td>\n",
              "      <td>NaN</td>\n",
              "      <td>14.0</td>\n",
              "      <td>14.0</td>\n",
              "      <td>6.694562</td>\n",
              "    </tr>\n",
              "    <tr>\n",
              "      <th>2</th>\n",
              "      <td>825</td>\n",
              "      <td>40</td>\n",
              "      <td>108</td>\n",
              "      <td>46</td>\n",
              "      <td>14</td>\n",
              "      <td>11</td>\n",
              "      <td>9</td>\n",
              "      <td>33</td>\n",
              "      <td>1</td>\n",
              "      <td>0</td>\n",
              "      <td>0</td>\n",
              "      <td>1</td>\n",
              "      <td>1</td>\n",
              "      <td>2.0</td>\n",
              "      <td>14.0</td>\n",
              "      <td>14.0</td>\n",
              "      <td>6.715384</td>\n",
              "    </tr>\n",
              "    <tr>\n",
              "      <th>3</th>\n",
              "      <td>650</td>\n",
              "      <td>40</td>\n",
              "      <td>96</td>\n",
              "      <td>32</td>\n",
              "      <td>12</td>\n",
              "      <td>13</td>\n",
              "      <td>7</td>\n",
              "      <td>32</td>\n",
              "      <td>1</td>\n",
              "      <td>0</td>\n",
              "      <td>0</td>\n",
              "      <td>1</td>\n",
              "      <td>4</td>\n",
              "      <td>3.0</td>\n",
              "      <td>12.0</td>\n",
              "      <td>12.0</td>\n",
              "      <td>6.476973</td>\n",
              "    </tr>\n",
              "    <tr>\n",
              "      <th>4</th>\n",
              "      <td>562</td>\n",
              "      <td>40</td>\n",
              "      <td>74</td>\n",
              "      <td>27</td>\n",
              "      <td>11</td>\n",
              "      <td>14</td>\n",
              "      <td>5</td>\n",
              "      <td>34</td>\n",
              "      <td>1</td>\n",
              "      <td>0</td>\n",
              "      <td>0</td>\n",
              "      <td>1</td>\n",
              "      <td>10</td>\n",
              "      <td>6.0</td>\n",
              "      <td>6.0</td>\n",
              "      <td>11.0</td>\n",
              "      <td>6.331502</td>\n",
              "    </tr>\n",
              "  </tbody>\n",
              "</table>\n",
              "</div>"
            ],
            "text/plain": [
              "   wage  hours   IQ  KWW  educ  ...  sibs  brthord  meduc  feduc     lwage\n",
              "0   769     40   93   35    12  ...     1      2.0    8.0    8.0  6.645091\n",
              "1   808     50  119   41    18  ...     1      NaN   14.0   14.0  6.694562\n",
              "2   825     40  108   46    14  ...     1      2.0   14.0   14.0  6.715384\n",
              "3   650     40   96   32    12  ...     4      3.0   12.0   12.0  6.476973\n",
              "4   562     40   74   27    11  ...    10      6.0    6.0   11.0  6.331502\n",
              "\n",
              "[5 rows x 17 columns]"
            ]
          },
          "metadata": {
            "tags": []
          },
          "execution_count": 1
        }
      ]
    },
    {
      "cell_type": "code",
      "metadata": {
        "id": "XpqneNTK-rkH",
        "colab_type": "code",
        "colab": {}
      },
      "source": [
        "df['const'] = 1\n",
        "import statsmodels.api as sm"
      ],
      "execution_count": 0,
      "outputs": []
    },
    {
      "cell_type": "code",
      "metadata": {
        "id": "ljXk-aPi-rq-",
        "colab_type": "code",
        "colab": {
          "base_uri": "https://localhost:8080/",
          "height": 454
        },
        "outputId": "50eba8ac-f293-4747-9a64-3c0a248546bd"
      },
      "source": [
        "reg1 = sm.OLS(df['lwage'], df[['const', 'educ']],\n",
        "                    missing='drop').fit()\n",
        "print(reg1.summary())"
      ],
      "execution_count": 3,
      "outputs": [
        {
          "output_type": "stream",
          "text": [
            "                            OLS Regression Results                            \n",
            "==============================================================================\n",
            "Dep. Variable:                  lwage   R-squared:                       0.097\n",
            "Model:                            OLS   Adj. R-squared:                  0.096\n",
            "Method:                 Least Squares   F-statistic:                     100.7\n",
            "Date:                Mon, 05 Aug 2019   Prob (F-statistic):           1.42e-22\n",
            "Time:                        18:20:41   Log-Likelihood:                -469.72\n",
            "No. Observations:                 935   AIC:                             943.4\n",
            "Df Residuals:                     933   BIC:                             953.1\n",
            "Df Model:                           1                                         \n",
            "Covariance Type:            nonrobust                                         \n",
            "==============================================================================\n",
            "                 coef    std err          t      P>|t|      [0.025      0.975]\n",
            "------------------------------------------------------------------------------\n",
            "const          5.9731      0.081     73.403      0.000       5.813       6.133\n",
            "educ           0.0598      0.006     10.035      0.000       0.048       0.072\n",
            "==============================================================================\n",
            "Omnibus:                       31.006   Durbin-Watson:                   1.779\n",
            "Prob(Omnibus):                  0.000   Jarque-Bera (JB):               37.262\n",
            "Skew:                          -0.375   Prob(JB):                     8.10e-09\n",
            "Kurtosis:                       3.627   Cond. No.                         85.3\n",
            "==============================================================================\n",
            "\n",
            "Warnings:\n",
            "[1] Standard Errors assume that the covariance matrix of the errors is correctly specified.\n"
          ],
          "name": "stdout"
        }
      ]
    },
    {
      "cell_type": "code",
      "metadata": {
        "id": "yMtb9OEV-rts",
        "colab_type": "code",
        "colab": {
          "base_uri": "https://localhost:8080/",
          "height": 472
        },
        "outputId": "f3d5ce84-d0d2-450e-d5b4-de98f40117d4"
      },
      "source": [
        "reg2 = sm.OLS(df['lwage'], df[['const', 'educ', 'IQ']],\n",
        "                    missing='drop').fit()\n",
        "print(reg2.summary())"
      ],
      "execution_count": 4,
      "outputs": [
        {
          "output_type": "stream",
          "text": [
            "                            OLS Regression Results                            \n",
            "==============================================================================\n",
            "Dep. Variable:                  lwage   R-squared:                       0.130\n",
            "Model:                            OLS   Adj. R-squared:                  0.128\n",
            "Method:                 Least Squares   F-statistic:                     69.42\n",
            "Date:                Mon, 05 Aug 2019   Prob (F-statistic):           7.88e-29\n",
            "Time:                        18:20:41   Log-Likelihood:                -452.72\n",
            "No. Observations:                 935   AIC:                             911.4\n",
            "Df Residuals:                     932   BIC:                             926.0\n",
            "Df Model:                           2                                         \n",
            "Covariance Type:            nonrobust                                         \n",
            "==============================================================================\n",
            "                 coef    std err          t      P>|t|      [0.025      0.975]\n",
            "------------------------------------------------------------------------------\n",
            "const          5.6583      0.096     58.793      0.000       5.469       5.847\n",
            "educ           0.0391      0.007      5.721      0.000       0.026       0.053\n",
            "IQ             0.0059      0.001      5.875      0.000       0.004       0.008\n",
            "==============================================================================\n",
            "Omnibus:                       35.757   Durbin-Watson:                   1.810\n",
            "Prob(Omnibus):                  0.000   Jarque-Bera (JB):               47.770\n",
            "Skew:                          -0.376   Prob(JB):                     4.23e-11\n",
            "Kurtosis:                       3.813   Cond. No.                         773.\n",
            "==============================================================================\n",
            "\n",
            "Warnings:\n",
            "[1] Standard Errors assume that the covariance matrix of the errors is correctly specified.\n"
          ],
          "name": "stdout"
        }
      ]
    },
    {
      "cell_type": "code",
      "metadata": {
        "id": "TEn51_V8-rv_",
        "colab_type": "code",
        "colab": {
          "base_uri": "https://localhost:8080/",
          "height": 454
        },
        "outputId": "6294614e-9731-42d2-8c1a-980c35bb776f"
      },
      "source": [
        "reg3 = sm.OLS(df['IQ'], df[['const', 'educ']],\n",
        "                    missing='drop').fit()\n",
        "print(reg3.summary())"
      ],
      "execution_count": 5,
      "outputs": [
        {
          "output_type": "stream",
          "text": [
            "                            OLS Regression Results                            \n",
            "==============================================================================\n",
            "Dep. Variable:                     IQ   R-squared:                       0.266\n",
            "Model:                            OLS   Adj. R-squared:                  0.265\n",
            "Method:                 Least Squares   F-statistic:                     338.0\n",
            "Date:                Mon, 05 Aug 2019   Prob (F-statistic):           1.16e-64\n",
            "Time:                        18:20:41   Log-Likelihood:                -3717.0\n",
            "No. Observations:                 935   AIC:                             7438.\n",
            "Df Residuals:                     933   BIC:                             7448.\n",
            "Df Model:                           1                                         \n",
            "Covariance Type:            nonrobust                                         \n",
            "==============================================================================\n",
            "                 coef    std err          t      P>|t|      [0.025      0.975]\n",
            "------------------------------------------------------------------------------\n",
            "const         53.6872      2.623     20.468      0.000      48.540      58.835\n",
            "educ           3.5338      0.192     18.385      0.000       3.157       3.911\n",
            "==============================================================================\n",
            "Omnibus:                       30.954   Durbin-Watson:                   1.779\n",
            "Prob(Omnibus):                  0.000   Jarque-Bera (JB):               35.266\n",
            "Skew:                          -0.398   Prob(JB):                     2.20e-08\n",
            "Kurtosis:                       3.522   Cond. No.                         85.3\n",
            "==============================================================================\n",
            "\n",
            "Warnings:\n",
            "[1] Standard Errors assume that the covariance matrix of the errors is correctly specified.\n"
          ],
          "name": "stdout"
        }
      ]
    }
  ]
}